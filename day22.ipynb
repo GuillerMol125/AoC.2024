{
 "cells": [
  {
   "cell_type": "code",
   "execution_count": 5,
   "id": "795f12e4",
   "metadata": {},
   "outputs": [],
   "source": [
    "import sys, os\n",
    "import numpy as np\n",
    "np.set_printoptions(threshold=np.inf)\n",
    "import pandas as pd\n",
    "from utils.utils import read_txt, read_txt_np_int\n",
    "from functools import lru_cache\n",
    "from math import ceil, floor\n",
    "from copy import deepcopy"
   ]
  },
  {
   "cell_type": "markdown",
   "id": "6cc20659",
   "metadata": {},
   "source": [
    "# INPUT"
   ]
  },
  {
   "cell_type": "code",
   "execution_count": 8,
   "id": "110246c7",
   "metadata": {},
   "outputs": [],
   "source": [
    "inputfilename = './inputs/day22.txt'\n",
    "\n",
    "inputdata = read_txt(inputfilename)\n",
    "\n",
    "testdata_small = [\"1\",\n",
    "\"10\",\n",
    "\"100\",\n",
    "\"2024\"]"
   ]
  },
  {
   "cell_type": "code",
   "execution_count": 9,
   "id": "af6214c1",
   "metadata": {},
   "outputs": [
    {
     "data": {
      "text/plain": [
       "['1', '10', '100', '2024']"
      ]
     },
     "execution_count": 9,
     "metadata": {},
     "output_type": "execute_result"
    }
   ],
   "source": [
    "data_to_use = testdata_small\n",
    "\n",
    "buyers_secrets = [int(x) for x in data_to_use]\n",
    "\n",
    "data_to_use"
   ]
  },
  {
   "cell_type": "markdown",
   "id": "14b0c6a3",
   "metadata": {},
   "source": [
    "## PART 1"
   ]
  },
  {
   "cell_type": "code",
   "execution_count": 30,
   "id": "d6ba6955",
   "metadata": {},
   "outputs": [],
   "source": [
    "def get_next_secret(secret):\n",
    "    secret = (secret ^ (secret * 64)) % 16777216\n",
    "    secret = (secret ^ floor(secret / 32)) % 16777216\n",
    "    secret = (secret ^ (secret * 2048)) % 16777216\n",
    "\n",
    "    return secret\n",
    "\n",
    "def evolve_secret(secret, repeats):\n",
    "    for i in range(repeats):\n",
    "        secret = get_next_secret(secret)\n",
    "    return secret"
   ]
  },
  {
   "cell_type": "code",
   "execution_count": 31,
   "id": "ac92e1b7",
   "metadata": {},
   "outputs": [
    {
     "name": "stdout",
     "output_type": "stream",
     "text": [
      "37327623\n"
     ]
    }
   ],
   "source": [
    "# Solve part 1\n",
    "sum = 0\n",
    "for secret in buyers_secrets:\n",
    "    secret = evolve_secret(secret, 2000)\n",
    "    sum += secret\n",
    "print(sum)"
   ]
  },
  {
   "cell_type": "markdown",
   "id": "b92ebbf5",
   "metadata": {},
   "source": [
    "## PART 2"
   ]
  },
  {
   "cell_type": "code",
   "execution_count": null,
   "id": "3405b712",
   "metadata": {},
   "outputs": [],
   "source": []
  }
 ],
 "metadata": {
  "kernelspec": {
   "display_name": "base",
   "language": "python",
   "name": "python3"
  },
  "language_info": {
   "codemirror_mode": {
    "name": "ipython",
    "version": 3
   },
   "file_extension": ".py",
   "mimetype": "text/x-python",
   "name": "python",
   "nbconvert_exporter": "python",
   "pygments_lexer": "ipython3",
   "version": "3.13.5"
  }
 },
 "nbformat": 4,
 "nbformat_minor": 5
}
