{
 "cells": [
  {
   "cell_type": "code",
   "execution_count": 2,
   "id": "795f12e4",
   "metadata": {},
   "outputs": [],
   "source": [
    "import sys, os\n",
    "import numpy as np\n",
    "import pandas as pd\n",
    "from utils.utils import read_txt, read_txt_np_int"
   ]
  },
  {
   "cell_type": "markdown",
   "id": "6cc20659",
   "metadata": {},
   "source": [
    "# INPUT"
   ]
  },
  {
   "cell_type": "code",
   "execution_count": 3,
   "id": "110246c7",
   "metadata": {},
   "outputs": [],
   "source": [
    "inputfilename = './inputs/day2A.txt'\n",
    "\n",
    "inputdata = read_txt_np_int(inputfilename)"
   ]
  },
  {
   "cell_type": "code",
   "execution_count": 58,
   "id": "57736128",
   "metadata": {},
   "outputs": [
    {
     "data": {
      "text/plain": [
       "(array([45, 47, 48, 51, 54, 56, 54]), array([47, 48, 51, 54, 56]))"
      ]
     },
     "execution_count": 58,
     "metadata": {},
     "output_type": "execute_result"
    }
   ],
   "source": [
    "inputdata[0][0:], inputdata[0][1:-1]"
   ]
  },
  {
   "cell_type": "markdown",
   "id": "14b0c6a3",
   "metadata": {},
   "source": [
    "## PART 1"
   ]
  },
  {
   "cell_type": "code",
   "execution_count": 25,
   "id": "2a031376",
   "metadata": {},
   "outputs": [],
   "source": [
    "def safe_report(report):\n",
    "    report_steps = report[1:] - report[:-1]\n",
    "    min_margin, max_margin = np.min(report_steps), np.max(report_steps)\n",
    "    if min_margin*max_margin < 0:\n",
    "        return False\n",
    "    min_abs_margin = min(abs(min_margin), abs(max_margin))\n",
    "    max_abs_margin = max(abs(min_margin), abs(max_margin))\n",
    "    if min_abs_margin < 1 or max_abs_margin > 3:\n",
    "        return False\n",
    "    return True"
   ]
  },
  {
   "cell_type": "code",
   "execution_count": 26,
   "id": "a7d03473",
   "metadata": {},
   "outputs": [
    {
     "name": "stdout",
     "output_type": "stream",
     "text": [
      "230 770 1000\n"
     ]
    }
   ],
   "source": [
    "\n",
    "safe_reports = 0\n",
    "unsafe_reports = 0\n",
    "total_reports = len(inputdata)\n",
    "for report in inputdata:\n",
    "    safe_reports += 1 if safe_report(report) else 0\n",
    "    unsafe_reports += 1 if not safe_report(report) else 0\n",
    "\n",
    "print(safe_reports, unsafe_reports, total_reports)"
   ]
  },
  {
   "cell_type": "markdown",
   "id": "b92ebbf5",
   "metadata": {},
   "source": [
    "## PART 2"
   ]
  },
  {
   "cell_type": "code",
   "execution_count": 65,
   "id": "ff1ab7cc",
   "metadata": {},
   "outputs": [],
   "source": [
    "def extract_first_bad_step(report):\n",
    "    report_steps = report[1:] - report[:-1]\n",
    "    sorted_steps = sorted(report_steps)\n",
    "    bad_steps = []\n",
    "    if sorted_steps[1] < 0:\n",
    "        # Decreasing report\n",
    "        # Detect first wrong direction -- if any\n",
    "        bad_steps = np.where(report_steps > 0)\n",
    "        if len(bad_steps[0]) > 0:\n",
    "            return bad_steps[0][0]\n",
    "        # Else detect too large steps -- if any\n",
    "        bad_steps = np.where(report_steps < -3)\n",
    "        if len(bad_steps[0]) > 0:\n",
    "            return bad_steps[0][0]\n",
    "        # Else detect too small steps -- if any\n",
    "        bad_steps = np.where(report_steps > -1)\n",
    "        if len(bad_steps[0]) > 0:\n",
    "            return bad_steps[0][0]\n",
    "        # All good\n",
    "        return None\n",
    "    else:\n",
    "        # Increasing report\n",
    "        # Detect first wrong direction -- if any\n",
    "        bad_steps = np.where(report_steps < 0)\n",
    "        if len(bad_steps[0]) > 0:\n",
    "            return bad_steps[0][0]\n",
    "        # Else detect too large steps -- if any\n",
    "        bad_steps = np.where(report_steps > 3)\n",
    "        if len(bad_steps[0]) > 0:\n",
    "            return bad_steps[0][0]\n",
    "        # Else detect too small steps -- if any\n",
    "        bad_steps = np.where(report_steps < 1)\n",
    "        if len(bad_steps[0]) > 0:\n",
    "            return bad_steps[0][0]\n",
    "        # All good\n",
    "        return None\n"
   ]
  },
  {
   "cell_type": "code",
   "execution_count": 84,
   "id": "15edd3e4",
   "metadata": {},
   "outputs": [
    {
     "name": "stdout",
     "output_type": "stream",
     "text": [
      "301 699 1000\n"
     ]
    }
   ],
   "source": [
    "\n",
    "safe_reports = 0\n",
    "unsafe_reports = 0\n",
    "total_reports = len(inputdata)\n",
    "for report in inputdata:\n",
    "    if safe_report(report):\n",
    "        safe_reports += 1\n",
    "        continue\n",
    "    first_bad_step = int(extract_first_bad_step(report))\n",
    "    fixed = False\n",
    "    for bad_position in [first_bad_step, first_bad_step+1]:\n",
    "        modified_report = np.concatenate([report[0:bad_position], report[bad_position+1:]])\n",
    "        if safe_report(modified_report):\n",
    "            safe_reports += 1\n",
    "            fixed = True\n",
    "            break\n",
    "    if not fixed:\n",
    "        unsafe_reports += 1\n",
    "\n",
    "print(safe_reports, unsafe_reports, total_reports)"
   ]
  }
 ],
 "metadata": {
  "kernelspec": {
   "display_name": "base",
   "language": "python",
   "name": "python3"
  },
  "language_info": {
   "codemirror_mode": {
    "name": "ipython",
    "version": 3
   },
   "file_extension": ".py",
   "mimetype": "text/x-python",
   "name": "python",
   "nbconvert_exporter": "python",
   "pygments_lexer": "ipython3",
   "version": "3.13.5"
  }
 },
 "nbformat": 4,
 "nbformat_minor": 5
}
