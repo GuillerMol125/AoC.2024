{
 "cells": [
  {
   "cell_type": "code",
   "execution_count": 4,
   "id": "795f12e4",
   "metadata": {},
   "outputs": [],
   "source": [
    "import sys, os\n",
    "import numpy as np\n",
    "import pandas as pd\n",
    "from utils.utils import read_txt"
   ]
  },
  {
   "cell_type": "markdown",
   "id": "6cc20659",
   "metadata": {},
   "source": [
    "# INPUT"
   ]
  },
  {
   "cell_type": "code",
   "execution_count": 6,
   "id": "622beb6a",
   "metadata": {},
   "outputs": [
    {
     "name": "stdout",
     "output_type": "stream",
     "text": [
      "/home/guillermo/github_code/AoC.2024\n"
     ]
    }
   ],
   "source": [
    "print(os.getcwd())"
   ]
  },
  {
   "cell_type": "code",
   "execution_count": null,
   "id": "110246c7",
   "metadata": {},
   "outputs": [],
   "source": [
    "inputfilename = './inputs/day1A.txt'\n",
    "\n",
    "inputdata = np.array(read_txt_split(inputfilename)).astype(int)\n",
    "\n",
    "list1 = inputdata[:,0]\n",
    "list2 = inputdata[:,1]"
   ]
  },
  {
   "cell_type": "markdown",
   "id": "14b0c6a3",
   "metadata": {},
   "source": [
    "## PART 1"
   ]
  },
  {
   "cell_type": "code",
   "execution_count": 17,
   "id": "2a031376",
   "metadata": {},
   "outputs": [],
   "source": [
    "sorted_list1 = sorted(list1)\n",
    "sorted_list2 = sorted(list2)"
   ]
  },
  {
   "cell_type": "code",
   "execution_count": 20,
   "id": "a7d03473",
   "metadata": {},
   "outputs": [
    {
     "name": "stdout",
     "output_type": "stream",
     "text": [
      "2378066\n"
     ]
    }
   ],
   "source": [
    "diff = np.sum(np.abs(np.array(sorted_list1) - np.array(sorted_list2)))\n",
    "print(diff)"
   ]
  },
  {
   "cell_type": "markdown",
   "id": "b92ebbf5",
   "metadata": {},
   "source": [
    "## PART 2"
   ]
  },
  {
   "cell_type": "code",
   "execution_count": 21,
   "id": "ff1ab7cc",
   "metadata": {},
   "outputs": [],
   "source": [
    "dict_list2 = {}\n",
    "for val in sorted_list2:\n",
    "    try:\n",
    "        dict_list2[val] += 1\n",
    "    except KeyError:\n",
    "        dict_list2[val] = 1"
   ]
  },
  {
   "cell_type": "code",
   "execution_count": 22,
   "id": "216dc8ea",
   "metadata": {},
   "outputs": [
    {
     "name": "stdout",
     "output_type": "stream",
     "text": [
      "18934359\n"
     ]
    }
   ],
   "source": [
    "similarity = 0\n",
    "for val in sorted_list1:\n",
    "    try:\n",
    "        similarity += val*dict_list2[val]\n",
    "    except KeyError:\n",
    "        pass\n",
    "\n",
    "print(similarity)"
   ]
  },
  {
   "cell_type": "code",
   "execution_count": null,
   "id": "7adcc914",
   "metadata": {},
   "outputs": [],
   "source": []
  }
 ],
 "metadata": {
  "kernelspec": {
   "display_name": "base",
   "language": "python",
   "name": "python3"
  },
  "language_info": {
   "codemirror_mode": {
    "name": "ipython",
    "version": 3
   },
   "file_extension": ".py",
   "mimetype": "text/x-python",
   "name": "python",
   "nbconvert_exporter": "python",
   "pygments_lexer": "ipython3",
   "version": "3.13.5"
  }
 },
 "nbformat": 4,
 "nbformat_minor": 5
}
