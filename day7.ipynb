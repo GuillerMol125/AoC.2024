{
 "cells": [
  {
   "cell_type": "code",
   "execution_count": 1,
   "id": "795f12e4",
   "metadata": {},
   "outputs": [],
   "source": [
    "import sys, os\n",
    "import numpy as np\n",
    "import pandas as pd\n",
    "from utils.utils import read_txt, read_txt_np_int"
   ]
  },
  {
   "cell_type": "markdown",
   "id": "6cc20659",
   "metadata": {},
   "source": [
    "# INPUT"
   ]
  },
  {
   "cell_type": "code",
   "execution_count": 2,
   "id": "110246c7",
   "metadata": {},
   "outputs": [],
   "source": [
    "inputfilename = './inputs/day7A.txt'\n",
    "\n",
    "inputdata = read_txt(inputfilename)"
   ]
  },
  {
   "cell_type": "code",
   "execution_count": 3,
   "id": "57736128",
   "metadata": {},
   "outputs": [
    {
     "data": {
      "text/plain": [
       "'25056746772: 4 47 136 21 79 49'"
      ]
     },
     "execution_count": 3,
     "metadata": {},
     "output_type": "execute_result"
    }
   ],
   "source": [
    "inputdata[0]"
   ]
  },
  {
   "cell_type": "code",
   "execution_count": 8,
   "id": "3835fee0",
   "metadata": {},
   "outputs": [
    {
     "name": "stdout",
     "output_type": "stream",
     "text": [
      "{'result': 25056746772, 'operands': [4, 47, 136, 21, 79, 49]}\n"
     ]
    }
   ],
   "source": [
    "equations = [{'result': int(line.rstrip().split(':')[0]), 'operands': [int(x) for x in line.rstrip().split(':')[1].split()]} for line in inputdata]\n",
    "print(equations[0])"
   ]
  },
  {
   "cell_type": "markdown",
   "id": "14b0c6a3",
   "metadata": {},
   "source": [
    "## PART 1"
   ]
  },
  {
   "cell_type": "code",
   "execution_count": 9,
   "id": "2a031376",
   "metadata": {},
   "outputs": [],
   "source": [
    "def equation_is_solvable(equation):\n",
    "    result = equation['result']\n",
    "    operands = equation['operands']\n",
    "    if len(operands) == 1:\n",
    "        return result == operands[0]\n",
    "    else:\n",
    "        last_operand = operands[-1]\n",
    "        if equation_is_solvable({'result': result - last_operand, 'operands': operands[:-1]}):\n",
    "            return True\n",
    "        if result % last_operand == 0:\n",
    "            return equation_is_solvable({'result': result // last_operand, 'operands': operands[:-1]})\n",
    "        return False"
   ]
  },
  {
   "cell_type": "code",
   "execution_count": 13,
   "id": "a7d03473",
   "metadata": {},
   "outputs": [
    {
     "name": "stdout",
     "output_type": "stream",
     "text": [
      "True\n"
     ]
    }
   ],
   "source": [
    "my_equation = {\n",
    "    'result': 3267,\n",
    "    'operands': [81, 40, 27]\n",
    "}\n",
    "print(equation_is_solvable(my_equation))"
   ]
  },
  {
   "cell_type": "code",
   "execution_count": 14,
   "id": "e268f93e",
   "metadata": {},
   "outputs": [
    {
     "name": "stdout",
     "output_type": "stream",
     "text": [
      "975671981569\n"
     ]
    }
   ],
   "source": [
    "# Solve part 1\n",
    "cumulative_result = 0\n",
    "for equation in equations:\n",
    "    if equation_is_solvable(equation):\n",
    "        cumulative_result += equation['result']\n",
    "print(cumulative_result)"
   ]
  },
  {
   "cell_type": "markdown",
   "id": "b92ebbf5",
   "metadata": {},
   "source": [
    "## PART 2"
   ]
  },
  {
   "cell_type": "code",
   "execution_count": null,
   "id": "bc8cc699",
   "metadata": {},
   "outputs": [],
   "source": [
    "# I got the || operator wrong\n",
    "def equation_is_solvable_2(equation):\n",
    "    result = equation['result']\n",
    "    operands = equation['operands']\n",
    "    if len(operands) == 1:\n",
    "        return result == operands[0]\n",
    "    # At least 2 operands\n",
    "    first_operand = operands[0]\n",
    "    second_operand = operands[1]\n",
    "    length_first_operand = len(str(first_operand))\n",
    "    # Try to split the result into the first operand\n",
    "    if length_first_operand < len(str(result)):\n",
    "        if str(first_operand) == str(result)[:length_first_operand]:\n",
    "            if equation_is_solvable_2({'result': int(str(result)[length_first_operand:]), 'operands': operands[1:]}):\n",
    "                return True\n",
    "    trailing_operands = operands[2:]\n",
    "    # Try Addition First\n",
    "    addition_operands = [first_operand + second_operand] + trailing_operands\n",
    "    if equation_is_solvable_2({'result': result, 'operands': addition_operands}):\n",
    "        return True\n",
    "    # Try Multiplication First\n",
    "    multiplication_operands = [first_operand * second_operand] + trailing_operands\n",
    "    return equation_is_solvable_2({'result': result, 'operands': multiplication_operands})\n"
   ]
  },
  {
   "cell_type": "code",
   "execution_count": 71,
   "id": "da72c69c",
   "metadata": {},
   "outputs": [],
   "source": [
    "# Now I get it\n",
    "def equation_is_solvable_3(equation):\n",
    "\n",
    "    result = equation['result']\n",
    "    operands = equation['operands']\n",
    "    #print(f\"Trying {result} with operands {operands}\")\n",
    "\n",
    "    if len(operands) == 1:\n",
    "        return result == operands[0]\n",
    "\n",
    "    # Beginning to end\n",
    "    first_operand = operands[0]\n",
    "    second_operand = operands[1]\n",
    "    # Try multiplication first\n",
    "    mult_operands = [first_operand * second_operand] + operands[2:]\n",
    "    if equation_is_solvable_3({'result': result, 'operands': mult_operands}):\n",
    "        return True\n",
    "    \n",
    "    # Try concatenation first\n",
    "    concat_operands = [int(str(first_operand) + str(second_operand))] + operands[2:]\n",
    "    if equation_is_solvable_3({'result': result, 'operands': concat_operands}):\n",
    "        return True\n",
    "        \n",
    "    # Otherwise try addition first\n",
    "    add_operands = [first_operand + second_operand] + operands[2:]\n",
    "    return equation_is_solvable_3({'result': result, 'operands': add_operands})"
   ]
  },
  {
   "cell_type": "code",
   "execution_count": 69,
   "id": "c8b9b838",
   "metadata": {},
   "outputs": [],
   "source": [
    "operands = [1, 2]\n",
    "trailing_operands = operands[2:]"
   ]
  },
  {
   "cell_type": "code",
   "execution_count": 70,
   "id": "07ea2b03",
   "metadata": {},
   "outputs": [
    {
     "name": "stdout",
     "output_type": "stream",
     "text": [
      "False\n",
      "False\n",
      "Trying 7290 with operands [6, 8, 6, 15]\n",
      "Trying 7290 with operands [48, 6, 15]\n",
      "Trying 7290 with operands [288, 15]\n",
      "Trying 7290 with operands [4320]\n",
      "Trying 7290 with operands [28815]\n",
      "Trying 7290 with operands [303]\n",
      "Trying 7290 with operands [486, 15]\n",
      "Trying 7290 with operands [7290]\n",
      "True\n"
     ]
    }
   ],
   "source": [
    "my_equation = {\n",
    "    'result': 7290,\n",
    "    'operands': [6, 8, 6, 15]\n",
    "}\n",
    "print(equation_is_solvable(my_equation))\n",
    "print(equation_is_solvable_2(my_equation))\n",
    "print(equation_is_solvable_3(my_equation))"
   ]
  },
  {
   "cell_type": "code",
   "execution_count": null,
   "id": "617e9f48",
   "metadata": {},
   "outputs": [
    {
     "name": "stdout",
     "output_type": "stream",
     "text": [
      "78336350562302\n"
     ]
    }
   ],
   "source": [
    "# Solve part 2\n",
    "cumulative_result = 0\n",
    "for equation in equations:\n",
    "    if equation_is_solvable_2(equation):\n",
    "        cumulative_result += equation['result']\n",
    "print(cumulative_result)"
   ]
  },
  {
   "cell_type": "code",
   "execution_count": 73,
   "id": "4eeb3217",
   "metadata": {},
   "outputs": [
    {
     "name": "stdout",
     "output_type": "stream",
     "text": [
      "223472064194845\n"
     ]
    }
   ],
   "source": [
    "# Solve part 2\n",
    "cumulative_result = 0\n",
    "for equation in equations:\n",
    "    if equation_is_solvable_3(equation):\n",
    "        cumulative_result += equation['result']\n",
    "print(cumulative_result)"
   ]
  },
  {
   "cell_type": "code",
   "execution_count": null,
   "id": "2db5610d",
   "metadata": {},
   "outputs": [],
   "source": []
  }
 ],
 "metadata": {
  "kernelspec": {
   "display_name": "eic_rapp",
   "language": "python",
   "name": "python3"
  },
  "language_info": {
   "codemirror_mode": {
    "name": "ipython",
    "version": 3
   },
   "file_extension": ".py",
   "mimetype": "text/x-python",
   "name": "python",
   "nbconvert_exporter": "python",
   "pygments_lexer": "ipython3",
   "version": "3.10.8"
  }
 },
 "nbformat": 4,
 "nbformat_minor": 5
}
