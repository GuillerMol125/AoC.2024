{
 "cells": [
  {
   "cell_type": "code",
   "execution_count": 8,
   "id": "795f12e4",
   "metadata": {},
   "outputs": [],
   "source": [
    "import sys, os\n",
    "import numpy as np\n",
    "import pandas as pd\n",
    "from utils.utils import read_txt, read_txt_np_int\n",
    "from functools import lru_cache"
   ]
  },
  {
   "cell_type": "markdown",
   "id": "6cc20659",
   "metadata": {},
   "source": [
    "# INPUT"
   ]
  },
  {
   "cell_type": "code",
   "execution_count": 3,
   "id": "110246c7",
   "metadata": {},
   "outputs": [],
   "source": [
    "inputfilename = './inputs/day11A.txt'\n",
    "\n",
    "inputdata = read_txt(inputfilename)\n",
    "\n",
    "testdata = \"125 17\""
   ]
  },
  {
   "cell_type": "code",
   "execution_count": 19,
   "id": "57736128",
   "metadata": {},
   "outputs": [
    {
     "data": {
      "text/plain": [
       "['64554', '35', '906', '6', '6960985', '5755', '975820', '0']"
      ]
     },
     "execution_count": 19,
     "metadata": {},
     "output_type": "execute_result"
    }
   ],
   "source": [
    "data_to_use = inputdata[0]\n",
    "\n",
    "rocks = data_to_use.rsplit()\n",
    "rocks"
   ]
  },
  {
   "cell_type": "markdown",
   "id": "14b0c6a3",
   "metadata": {},
   "source": [
    "## PART 1"
   ]
  },
  {
   "cell_type": "code",
   "execution_count": 22,
   "id": "7830808f",
   "metadata": {},
   "outputs": [],
   "source": [
    "@lru_cache(maxsize=1000)\n",
    "def count_rocks_after_blinks(rock_value, blink_count):\n",
    "    if blink_count == 0:\n",
    "        #print(f\"No more blinks for rock value {rock_value}\")\n",
    "        return 1\n",
    "    if rock_value == 0:\n",
    "        return count_rocks_after_blinks(1, blink_count - 1)\n",
    "    rock_value_str = str(rock_value)                               \n",
    "    if len(rock_value_str) % 2 == 0:\n",
    "        return count_rocks_after_blinks(int(rock_value_str[0:len(rock_value_str)//2]), blink_count - 1) + count_rocks_after_blinks(int(rock_value_str[len(rock_value_str)//2:len(rock_value_str)]), blink_count - 1)\n",
    "    return count_rocks_after_blinks(rock_value*2024, blink_count - 1)"
   ]
  },
  {
   "cell_type": "code",
   "execution_count": 23,
   "id": "2f49d9be",
   "metadata": {},
   "outputs": [
    {
     "name": "stdout",
     "output_type": "stream",
     "text": [
      "Counting rocks with value 64554 after 25 blinks\n",
      "Counting rocks with value 35 after 25 blinks\n",
      "Counting rocks with value 906 after 25 blinks\n",
      "Counting rocks with value 6 after 25 blinks\n",
      "Counting rocks with value 6960985 after 25 blinks\n",
      "Counting rocks with value 5755 after 25 blinks\n",
      "Counting rocks with value 975820 after 25 blinks\n",
      "Counting rocks with value 0 after 25 blinks\n",
      "Total rocks = 175006\n"
     ]
    }
   ],
   "source": [
    "# Solve part 1\n",
    "total_rocks = 0\n",
    "blinks = 25\n",
    "for rock_value in rocks:\n",
    "    print(f\"Counting rocks with value {rock_value} after {blinks} blinks\")\n",
    "    total_rocks += count_rocks_after_blinks(int(rock_value), blinks)\n",
    "print(f\"Total rocks = {total_rocks}\")"
   ]
  },
  {
   "cell_type": "markdown",
   "id": "b92ebbf5",
   "metadata": {},
   "source": [
    "## PART 2"
   ]
  },
  {
   "cell_type": "code",
   "execution_count": 24,
   "id": "29f75ed8",
   "metadata": {},
   "outputs": [
    {
     "name": "stdout",
     "output_type": "stream",
     "text": [
      "Counting rocks with value 64554 after 75 blinks\n",
      "Counting rocks with value 35 after 75 blinks\n",
      "Counting rocks with value 906 after 75 blinks\n",
      "Counting rocks with value 6 after 75 blinks\n",
      "Counting rocks with value 6960985 after 75 blinks\n",
      "Counting rocks with value 5755 after 75 blinks\n",
      "Counting rocks with value 975820 after 75 blinks\n",
      "Counting rocks with value 0 after 75 blinks\n",
      "Total rocks = 207961583799296\n"
     ]
    }
   ],
   "source": [
    "# Solve part 2\n",
    "total_rocks = 0\n",
    "blinks = 75\n",
    "for rock_value in rocks:\n",
    "    print(f\"Counting rocks with value {rock_value} after {blinks} blinks\")\n",
    "    total_rocks += count_rocks_after_blinks(int(rock_value), blinks)\n",
    "print(f\"Total rocks = {total_rocks}\")"
   ]
  },
  {
   "cell_type": "code",
   "execution_count": null,
   "id": "6fdb9f88",
   "metadata": {},
   "outputs": [],
   "source": []
  }
 ],
 "metadata": {
  "kernelspec": {
   "display_name": "eic_rapp",
   "language": "python",
   "name": "python3"
  },
  "language_info": {
   "codemirror_mode": {
    "name": "ipython",
    "version": 3
   },
   "file_extension": ".py",
   "mimetype": "text/x-python",
   "name": "python",
   "nbconvert_exporter": "python",
   "pygments_lexer": "ipython3",
   "version": "3.10.8"
  }
 },
 "nbformat": 4,
 "nbformat_minor": 5
}
