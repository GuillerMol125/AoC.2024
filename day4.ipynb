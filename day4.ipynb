{
 "cells": [
  {
   "cell_type": "code",
   "execution_count": 1,
   "id": "795f12e4",
   "metadata": {},
   "outputs": [],
   "source": [
    "import sys, os\n",
    "import numpy as np\n",
    "import pandas as pd\n",
    "from utils.utils import read_txt, read_txt_np_int"
   ]
  },
  {
   "cell_type": "markdown",
   "id": "6cc20659",
   "metadata": {},
   "source": [
    "# INPUT"
   ]
  },
  {
   "cell_type": "code",
   "execution_count": 34,
   "id": "110246c7",
   "metadata": {},
   "outputs": [],
   "source": [
    "inputfilename = './inputs/day4A.txt'\n",
    "\n",
    "inputdata = read_txt(inputfilename)"
   ]
  },
  {
   "cell_type": "code",
   "execution_count": 11,
   "id": "57736128",
   "metadata": {},
   "outputs": [
    {
     "data": {
      "text/plain": [
       "'MMSSMSMXAMXMSSSSMMXSSMSAMASASXXAAXMAXXAMXAXSXMAMXMMMMSSMXMAAAMXMMMXXAMMAMSAMXXAMMMAAMMMSMMMMMXXSAMXMASXMXSMSXMXMMMSMSAMXSSMMXMMASMSMSMMMAMMS'"
      ]
     },
     "execution_count": 11,
     "metadata": {},
     "output_type": "execute_result"
    }
   ],
   "source": [
    "inputdata[0]"
   ]
  },
  {
   "cell_type": "code",
   "execution_count": 13,
   "id": "3835fee0",
   "metadata": {},
   "outputs": [
    {
     "data": {
      "text/plain": [
       "['MMSSMSM',\n",
       " 'AM',\n",
       " 'MSSSSMM',\n",
       " 'SSMSAMASAS',\n",
       " '',\n",
       " 'AA',\n",
       " 'MA',\n",
       " '',\n",
       " 'AM',\n",
       " 'A',\n",
       " 'S',\n",
       " 'MAM',\n",
       " 'MMMMSSM',\n",
       " 'MAAAM',\n",
       " 'MMM',\n",
       " '',\n",
       " 'AMMAMSAM',\n",
       " '',\n",
       " 'AMMMAAMMMSMMMMM',\n",
       " '',\n",
       " 'SAM',\n",
       " 'MAS',\n",
       " 'M',\n",
       " 'SMS',\n",
       " 'M',\n",
       " 'MMMSMSAM',\n",
       " 'SSMM',\n",
       " 'MMASMSMSMMMAMMS']"
      ]
     },
     "execution_count": 13,
     "metadata": {},
     "output_type": "execute_result"
    }
   ],
   "source": [
    "inputdata[0].replace('X', ',').split(',')"
   ]
  },
  {
   "cell_type": "markdown",
   "id": "14b0c6a3",
   "metadata": {},
   "source": [
    "## PART 1"
   ]
  },
  {
   "cell_type": "code",
   "execution_count": 35,
   "id": "2a031376",
   "metadata": {},
   "outputs": [],
   "source": [
    "inputdata_np = np.array([inputdataline.replace('X', '1,').replace('M','2,').replace('A','4,').replace('S','8,').rstrip(',').split(',') for inputdataline in inputdata]).astype(int)"
   ]
  },
  {
   "cell_type": "code",
   "execution_count": 36,
   "id": "a7d03473",
   "metadata": {},
   "outputs": [
    {
     "data": {
      "text/plain": [
       "array([[2, 2, 8, ..., 2, 2, 8],\n",
       "       [4, 4, 8, ..., 8, 1, 8],\n",
       "       [2, 1, 8, ..., 8, 4, 8],\n",
       "       ...,\n",
       "       [8, 1, 2, ..., 2, 4, 1],\n",
       "       [1, 4, 2, ..., 8, 2, 1],\n",
       "       [8, 1, 2, ..., 4, 2, 8]])"
      ]
     },
     "execution_count": 36,
     "metadata": {},
     "output_type": "execute_result"
    }
   ],
   "source": [
    "inputdata_np"
   ]
  },
  {
   "cell_type": "code",
   "execution_count": null,
   "id": "ea61c4dc",
   "metadata": {},
   "outputs": [],
   "source": [
    "# shift (horizontal, vertical) can be (1,0), (0,1), (1,1), (1,-1)\n",
    "valid_values = [1, 3, 7, 15]\n",
    "def shift_array(array, shift):\n",
    "    shifted_array = np.roll(array, shift, axis=(0,1))\n",
    "    if shift[0] > 0:\n",
    "        shifted_array[:shift[0], :] = 0\n",
    "    elif shift[0] < 0:\n",
    "        shifted_array[shift[0]:, :] = 0\n",
    "    if shift[1] > 0:\n",
    "        shifted_array[:, :shift[1]] = 0\n",
    "    elif shift[1] < 0:\n",
    "        shifted_array[:, shift[1]:] = 0\n",
    "    return shifted_array\n",
    "\n",
    "def add_four_shifts(array, shift, valid_values=valid_values):\n",
    "    out_array = array.copy()\n",
    "    shifted_array = array.copy()\n",
    "    valid_array = (out_array == 1)\n",
    "    for i in range(3):\n",
    "        shifted_array = shift_array(shifted_array, shift)\n",
    "        out_array += shifted_array\n",
    "        valid_array = np.logical_and((out_array == valid_values[i+1]), valid_array)\n",
    "    return np.sum(valid_array)\n"
   ]
  },
  {
   "cell_type": "code",
   "execution_count": 66,
   "id": "8152351c",
   "metadata": {},
   "outputs": [
    {
     "name": "stdout",
     "output_type": "stream",
     "text": [
      "230\n",
      "217\n",
      "249\n",
      "211\n",
      "441\n",
      "437\n",
      "401\n",
      "387\n",
      "2573\n"
     ]
    }
   ],
   "source": [
    "XMAS_found = 0\n",
    "# HORIZONTAL SHIFT\n",
    "horizontal_array = add_four_shifts(inputdata_np, (0,1))\n",
    "print(horizontal_array)\n",
    "XMAS_found += horizontal_array\n",
    "\n",
    "# ANTIHORIZONTAL SHIFT\n",
    "horizontal_array = add_four_shifts(inputdata_np, (0,-1))\n",
    "print(horizontal_array)\n",
    "XMAS_found += horizontal_array\n",
    "\n",
    "# VERTICAL SHIFT\n",
    "vertical_array = add_four_shifts(inputdata_np, (1,0))\n",
    "print(vertical_array)\n",
    "XMAS_found += vertical_array\n",
    "\n",
    "# ANTIVERTICAL SHIFT\n",
    "vertical_array = add_four_shifts(inputdata_np, (-1,0))\n",
    "print(vertical_array)\n",
    "XMAS_found += vertical_array\n",
    "\n",
    "# DIAGONAL SHIFT\n",
    "diagonal_array = add_four_shifts(inputdata_np, (1,1))\n",
    "print(diagonal_array)\n",
    "XMAS_found += diagonal_array\n",
    "\n",
    "# ANTI-DIAGONAL SHIFT\n",
    "antidiagonal_array = add_four_shifts(inputdata_np, (1,-1))\n",
    "print(antidiagonal_array)\n",
    "XMAS_found += antidiagonal_array\n",
    "\n",
    "# REVERSE DIAGONAL SHIFT\n",
    "diagonal_array = add_four_shifts(inputdata_np, (-1,1))\n",
    "print(diagonal_array)\n",
    "XMAS_found += diagonal_array\n",
    "\n",
    "# REVERSE ANTI-DIAGONAL SHIFT\n",
    "antidiagonal_array = add_four_shifts(inputdata_np, (-1,-1))\n",
    "print(antidiagonal_array)\n",
    "XMAS_found += antidiagonal_array\n",
    "\n",
    "print(XMAS_found)"
   ]
  },
  {
   "cell_type": "markdown",
   "id": "b92ebbf5",
   "metadata": {},
   "source": [
    "## PART 2"
   ]
  },
  {
   "cell_type": "code",
   "execution_count": 67,
   "id": "ff1ab7cc",
   "metadata": {},
   "outputs": [],
   "source": [
    "inputdata_np = np.array([inputdataline.replace('X', '0,').replace('M','2,').replace('A','1,').replace('S','4,').rstrip(',').split(',') for inputdataline in inputdata]).astype(int)"
   ]
  },
  {
   "cell_type": "code",
   "execution_count": 68,
   "id": "4fe2dafb",
   "metadata": {},
   "outputs": [
    {
     "data": {
      "text/plain": [
       "array([[2, 2, 4, ..., 2, 2, 4],\n",
       "       [1, 1, 4, ..., 4, 0, 4],\n",
       "       [2, 0, 4, ..., 4, 1, 4],\n",
       "       ...,\n",
       "       [4, 0, 2, ..., 2, 1, 0],\n",
       "       [0, 1, 2, ..., 4, 2, 0],\n",
       "       [4, 0, 2, ..., 1, 2, 4]])"
      ]
     },
     "execution_count": 68,
     "metadata": {},
     "output_type": "execute_result"
    }
   ],
   "source": [
    "inputdata_np"
   ]
  },
  {
   "cell_type": "code",
   "execution_count": 74,
   "id": "ce411055",
   "metadata": {},
   "outputs": [],
   "source": [
    "def check_x_mas(array, shifts, valid_values=valid_values):\n",
    "    out_array = array.copy()\n",
    "    ref_array = array.copy()\n",
    "    shifted_array = array.copy()\n",
    "    valid_array = (out_array == valid_values[0])\n",
    "    for i in range(4):\n",
    "        shifted_array = shift_array(ref_array, shifts[i])\n",
    "        out_array += shifted_array\n",
    "        valid_array = np.logical_and((out_array == valid_values[i+1]), valid_array)\n",
    "    return np.sum(valid_array)\n"
   ]
  },
  {
   "cell_type": "code",
   "execution_count": 75,
   "id": "46b68f01",
   "metadata": {},
   "outputs": [
    {
     "name": "stdout",
     "output_type": "stream",
     "text": [
      "1850\n"
     ]
    }
   ],
   "source": [
    "XMAS_found = 0\n",
    "\n",
    "valid_values = [1, 3, 5, 9, 13]\n",
    "# FROM THE LEFT\n",
    "shifts = [(-1,1), (1,1), (-1,-1), (1,-1)]\n",
    "XMAS_found += check_x_mas(inputdata_np, shifts, valid_values)\n",
    "# FROM TOP\n",
    "shifts = [(-1,1), (-1,-1), (1,1), (1,-1)]\n",
    "XMAS_found += check_x_mas(inputdata_np, shifts, valid_values)\n",
    "# FROM THE RIGHT\n",
    "shifts = [(-1,-1), (1,-1), (-1,1), (1,1)]\n",
    "XMAS_found += check_x_mas(inputdata_np, shifts, valid_values)\n",
    "# FROM BOTTOM\n",
    "shifts = [(1,1), (1,-1), (-1,1), (-1,-1)]\n",
    "XMAS_found += check_x_mas(inputdata_np, shifts, valid_values)\n",
    "\n",
    "print(XMAS_found)"
   ]
  },
  {
   "cell_type": "code",
   "execution_count": null,
   "id": "bc8cc699",
   "metadata": {},
   "outputs": [],
   "source": []
  }
 ],
 "metadata": {
  "kernelspec": {
   "display_name": "base",
   "language": "python",
   "name": "python3"
  },
  "language_info": {
   "codemirror_mode": {
    "name": "ipython",
    "version": 3
   },
   "file_extension": ".py",
   "mimetype": "text/x-python",
   "name": "python",
   "nbconvert_exporter": "python",
   "pygments_lexer": "ipython3",
   "version": "3.13.5"
  }
 },
 "nbformat": 4,
 "nbformat_minor": 5
}
