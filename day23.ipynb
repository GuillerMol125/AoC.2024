{
 "cells": [
  {
   "cell_type": "code",
   "execution_count": null,
   "id": "795f12e4",
   "metadata": {},
   "outputs": [],
   "source": [
    "import sys, os\n",
    "import numpy as np\n",
    "np.set_printoptions(threshold=np.inf)\n",
    "import pandas as pd\n",
    "from utils.utils import read_txt, read_txt_np_int\n",
    "from functools import lru_cache\n",
    "from math import ceil, floor\n",
    "from copy import deepcopy"
   ]
  },
  {
   "cell_type": "markdown",
   "id": "6cc20659",
   "metadata": {},
   "source": [
    "# INPUT"
   ]
  },
  {
   "cell_type": "code",
   "execution_count": null,
   "id": "110246c7",
   "metadata": {},
   "outputs": [],
   "source": [
    "inputfilename = './inputs/day23.txt'\n",
    "\n",
    "inputdata = read_txt(inputfilename)\n",
    "\n",
    "testdata_small = [\"kh-tc\",\n",
    "\"qp-kh\",\n",
    "\"de-cg\",\n",
    "\"ka-co\",\n",
    "\"yn-aq\",\n",
    "\"qp-ub\",\n",
    "\"cg-tb\",\n",
    "\"vc-aq\",\n",
    "\"tb-ka\",\n",
    "\"wh-tc\",\n",
    "\"yn-cg\",\n",
    "\"kh-ub\",\n",
    "\"ta-co\",\n",
    "\"de-co\",\n",
    "\"tc-td\",\n",
    "\"tb-wq\",\n",
    "\"wh-td\",\n",
    "\"ta-ka\",\n",
    "\"td-qp\",\n",
    "\"aq-cg\",\n",
    "\"wq-ub\",\n",
    "\"ub-vc\",\n",
    "\"de-ta\",\n",
    "\"wq-aq\",\n",
    "\"wq-vc\",\n",
    "\"wh-yn\",\n",
    "\"ka-de\",\n",
    "\"kh-ta\",\n",
    "\"co-tc\",\n",
    "\"wh-qp\",\n",
    "\"tb-vc\",\n",
    "\"td-yn\"]"
   ]
  },
  {
   "cell_type": "code",
   "execution_count": null,
   "id": "af6214c1",
   "metadata": {},
   "outputs": [],
   "source": [
    "data_to_use = inputdata\n",
    "\n",
    "connections = set([tuple(line.split('-')) for line in data_to_use])\n",
    "\n",
    "connections"
   ]
  },
  {
   "cell_type": "markdown",
   "id": "14b0c6a3",
   "metadata": {},
   "source": [
    "## PART 1"
   ]
  },
  {
   "cell_type": "code",
   "execution_count": null,
   "id": "69edf313",
   "metadata": {},
   "outputs": [],
   "source": [
    "connected_computers = {}\n",
    "\n",
    "for link in connections:\n",
    "    try:\n",
    "        connected_computers[link[0]].add(link[1])\n",
    "    except KeyError:\n",
    "        connected_computers[link[0]] = set([link[1]])\n",
    "    try:\n",
    "        connected_computers[link[1]].add(link[0])\n",
    "    except KeyError:\n",
    "        connected_computers[link[1]] = set([link[0]])\n",
    "\n",
    "computer_list = connected_computers.keys()\n",
    "\n",
    "\n",
    "# Build 3-meshes\n",
    "visited_computers = set()\n",
    "\n",
    "three_mesh_computers = set()\n",
    "for computer in computer_list:\n",
    "    visited_computers.add(computer)\n",
    "    for neighbor in [neigh for neigh in connected_computers[computer] if neigh not in visited_computers]:\n",
    "        common_third_neighbor_list = set([third for third in connected_computers[computer].intersection(connected_computers[neighbor]) if third not in visited_computers])\n",
    "        three_mesh_computers = three_mesh_computers.union(set([tuple(sorted([computer, neighbor, third_neighbor])) for third_neighbor in common_third_neighbor_list]))\n",
    "\n",
    "# Get 3-meshes with t* computer\n",
    "count_t = 0\n",
    "for three_mesh in three_mesh_computers:\n",
    "    if any([computer[0] == 't' for computer in three_mesh]):\n",
    "        count_t += 1\n",
    "        print(three_mesh)\n",
    "\n",
    "print(f\"Total count of three meshes: {len(three_mesh_computers)}\")\n",
    "print(f\"...containing t: {count_t}\")"
   ]
  },
  {
   "cell_type": "markdown",
   "id": "b92ebbf5",
   "metadata": {},
   "source": [
    "## PART 2"
   ]
  },
  {
   "cell_type": "code",
   "execution_count": null,
   "id": "ea679ab6",
   "metadata": {},
   "outputs": [],
   "source": [
    "@lru_cache\n",
    "def find_largest_party(current_mesh, common_neighbor_list, visited_computers):\n",
    "    if len(common_neighbor_list) == 0:\n",
    "        return current_mesh\n",
    "    mesh_list = []\n",
    "    for next_neighbor in common_neighbor_list:\n",
    "        if next_neighbor in visited_computers:\n",
    "            continue\n",
    "        next_neighbor_list = (set(common_neighbor_list) & connected_computers[next_neighbor]) - set(visited_computers) # Intersection but not repeating already visited computers\n",
    "        next_mesh = set(current_mesh) | {next_neighbor}  # New element in set\n",
    "        #print(f\"Searching mesh {next_mesh} with common neighbors {len(next_neighbor_list)}\")\n",
    "        mesh_list.append(find_largest_party(tuple(sorted(next_mesh)), tuple(sorted(next_neighbor_list)), visited_computers))\n",
    "    return max(mesh_list, key=len)\n",
    "\n",
    "\n",
    "visited_computers = set()\n",
    "print(f\"Number of computers: {len(computer_list)}\")\n",
    "for starting_computer in sorted(computer_list):\n",
    "#for starting_computer in {'as', 'co'}:    \n",
    "    print(f\"Exploring computer: {starting_computer}\")\n",
    "    visited_computers.add(starting_computer)\n",
    "    print(f\"\\tVisited computers: {sorted(visited_computers)}\")\n",
    "    largest_mesh = find_largest_party(tuple([starting_computer]), tuple(sorted(set(connected_computers[starting_computer]) - visited_computers)), tuple(visited_computers))\n",
    "    print(f\"\\tLargest mesh found: {largest_mesh} with length {len(largest_mesh)}\")\n"
   ]
  },
  {
   "cell_type": "code",
   "execution_count": null,
   "id": "f3b9e559",
   "metadata": {},
   "outputs": [],
   "source": []
  }
 ],
 "metadata": {
  "kernelspec": {
   "display_name": "base",
   "language": "python",
   "name": "python3"
  },
  "language_info": {
   "codemirror_mode": {
    "name": "ipython",
    "version": 3
   },
   "file_extension": ".py",
   "mimetype": "text/x-python",
   "name": "python",
   "nbconvert_exporter": "python",
   "pygments_lexer": "ipython3",
   "version": "3.13.5"
  }
 },
 "nbformat": 4,
 "nbformat_minor": 5
}
