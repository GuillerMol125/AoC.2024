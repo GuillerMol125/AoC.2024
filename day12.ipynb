{
 "cells": [
  {
   "cell_type": "code",
   "execution_count": 1,
   "id": "795f12e4",
   "metadata": {},
   "outputs": [],
   "source": [
    "import sys, os\n",
    "import numpy as np\n",
    "import pandas as pd\n",
    "from utils.utils import read_txt, read_txt_np_int\n",
    "from functools import lru_cache"
   ]
  },
  {
   "cell_type": "markdown",
   "id": "6cc20659",
   "metadata": {},
   "source": [
    "# INPUT"
   ]
  },
  {
   "cell_type": "code",
   "execution_count": 2,
   "id": "110246c7",
   "metadata": {},
   "outputs": [],
   "source": [
    "inputfilename = './inputs/day12A.txt'\n",
    "\n",
    "inputdata = read_txt(inputfilename)\n",
    "\n",
    "testdata = [\"RRRRIICCFF\",\n",
    "\"RRRRIICCCF\",\n",
    "\"VVRRRCCFFF\",\n",
    "\"VVRCCCJFFF\",\n",
    "\"VVVVCJJCFE\",\n",
    "\"VVIVCCJJEE\",\n",
    "\"VVIIICJJEE\",\n",
    "\"MIIIIIJJEE\",\n",
    "\"MIIISIJEEE\",\n",
    "\"MMMISSJEEE\"]\n",
    "\n",
    "testdata2 = [\"AAAAAA\",\n",
    "\"AAABBA\",\n",
    "\"AAABBA\",\n",
    "\"ABBAAA\",\n",
    "\"ABBAAA\",\n",
    "\"AAAAAA\"]"
   ]
  },
  {
   "cell_type": "code",
   "execution_count": 30,
   "id": "57736128",
   "metadata": {},
   "outputs": [
    {
     "data": {
      "text/plain": [
       "array([['S', 'S', 'F', ..., 'K', 'K', 'K'],\n",
       "       ['F', 'F', 'F', ..., 'K', 'K', 'K'],\n",
       "       ['F', 'F', 'F', ..., 'K', 'K', 'K'],\n",
       "       ...,\n",
       "       ['P', 'P', 'P', ..., 'U', 'L', 'L'],\n",
       "       ['P', 'P', 'P', ..., 'U', 'L', 'L'],\n",
       "       ['P', 'P', 'P', ..., 'U', 'U', 'U']], shape=(140, 140), dtype='<U1')"
      ]
     },
     "execution_count": 30,
     "metadata": {},
     "output_type": "execute_result"
    }
   ],
   "source": [
    "data_to_use = inputdata\n",
    "\n",
    "garden_map = np.array([[char for char in line] for line in data_to_use])\n",
    "garden_map"
   ]
  },
  {
   "cell_type": "markdown",
   "id": "14b0c6a3",
   "metadata": {},
   "source": [
    "## PART 1"
   ]
  },
  {
   "cell_type": "code",
   "execution_count": 6,
   "id": "80bff80a",
   "metadata": {},
   "outputs": [],
   "source": [
    "hor_ver_movements = [(0, 1), (0, -1), (1, 0), (-1, 0)]\n",
    "\n",
    "def get_plant_land_in_garden(garden_map, plant_type):\n",
    "    plant_map = np.where(garden_map == plant_type, '1', '0')\n",
    "    plant_list_raw = np.where(plant_map == '1')\n",
    "    plant_list = set(zip(plant_list_raw[0], plant_list_raw[1]))\n",
    "    return plant_map, plant_list\n",
    "\n",
    "def get_all_plant_types_in_garden(garden_map):\n",
    "    plant_types = set(garden_map.flatten())\n",
    "    return plant_types\n",
    "\n",
    "def get_plant_single_region_cost(plant_map, plant_position):\n",
    "    area = 0\n",
    "    perimeter = 0\n",
    "    plant_position_list = set([plant_position])\n",
    "    plant_positions_visited = set()\n",
    "    while len(plant_position_list) > 0:\n",
    "        position = plant_position_list.pop()\n",
    "        plant_positions_visited.add(position)\n",
    "        if plant_map[position[0], position[1]] == '1':\n",
    "            area += 1\n",
    "            perimeter += 4\n",
    "            for hor_ver_movement in hor_ver_movements:\n",
    "                next_position = (position[0] + hor_ver_movement[0], position[1] + hor_ver_movement[1])\n",
    "                # Invalid positions -- out of the map\n",
    "                if next_position[0] < 0 or next_position[1] < 0:\n",
    "                    continue\n",
    "                try:\n",
    "                    if plant_map[next_position] == '1':\n",
    "                        perimeter -= 1\n",
    "                        if next_position not in plant_positions_visited:\n",
    "                            plant_position_list.add(next_position)\n",
    "                except IndexError:\n",
    "                    pass\n",
    "\n",
    "    return area*perimeter, plant_positions_visited\n",
    "\n",
    "def get_plant_total_fence_cost(garden_map, plant_type):\n",
    "    plant_map, plant_position_list = get_plant_land_in_garden(garden_map, plant_type)\n",
    "    plant_fence_cost = 0\n",
    "    while len(plant_position_list) > 0:\n",
    "        plant_position = plant_position_list.pop()\n",
    "        added_cost, plant_positions_visited = get_plant_single_region_cost(plant_map, plant_position)\n",
    "        plant_position_list = plant_position_list.difference(plant_positions_visited)\n",
    "        plant_fence_cost += added_cost\n",
    "    return plant_fence_cost\n",
    "\n",
    "def get_all_plants_total_fence_cost(garden_map):\n",
    "    plant_fence_cost = 0\n",
    "    plant_types = get_all_plant_types_in_garden(garden_map)\n",
    "    for plant_type in plant_types:\n",
    "        plant_fence_cost += get_plant_total_fence_cost(garden_map, plant_type)\n",
    "    return plant_fence_cost"
   ]
  },
  {
   "cell_type": "code",
   "execution_count": 7,
   "id": "4aae5f59",
   "metadata": {},
   "outputs": [
    {
     "data": {
      "text/plain": [
       "1184"
      ]
     },
     "execution_count": 7,
     "metadata": {},
     "output_type": "execute_result"
    }
   ],
   "source": [
    "# Solve part 1\n",
    "get_all_plants_total_fence_cost(garden_map)"
   ]
  },
  {
   "cell_type": "markdown",
   "id": "b92ebbf5",
   "metadata": {},
   "source": [
    "## PART 2"
   ]
  },
  {
   "cell_type": "code",
   "execution_count": 28,
   "id": "6fdb9f88",
   "metadata": {},
   "outputs": [],
   "source": [
    "side_map_tiles = {'left': {'top', 'bottom'}, # Left\n",
    "             'right': {'top', 'bottom'}, # Right\n",
    "             'top': {'left', 'right'}, # Top\n",
    "             'bottom': {'left', 'right'} # Bottom\n",
    "            }\n",
    "\n",
    "hor_ver_movements_map = {'right': (0, 1), 'left': (0, -1), 'bottom': (1, 0), 'top': (-1, 0)}\n",
    "\n",
    "def edge_exists_in_map(plant_map, position, edge_side):\n",
    "    hor_ver_movement = hor_ver_movements_map[edge_side]\n",
    "    next_position = (position[0] + hor_ver_movement[0], position[1] + hor_ver_movement[1])\n",
    "    # Make sure the position is 1\n",
    "    try:\n",
    "        assert(plant_map[position]) == '1'\n",
    "    except:\n",
    "        # If the position is outside the map or it is 0 there is no edge\n",
    "        return False\n",
    "    # Map edge has always an edge\n",
    "    if next_position[0] < 0 or next_position[1] < 0:\n",
    "        return True\n",
    "    try:\n",
    "        return plant_map[next_position] == '0'\n",
    "    # Again map edge\n",
    "    except IndexError:\n",
    "        return True\n",
    "    \n",
    "def add_new_side(plant_map, position, edge_side, visited_positions):\n",
    "    # Edge is new side UNLESS same edge exists in an already in a visited position aligned with this one\n",
    "    if edge_exists_in_map(plant_map, position, edge_side):\n",
    "        for side_map_tile in side_map_tiles[edge_side]:\n",
    "            hor_ver_movement = hor_ver_movements_map[side_map_tile]\n",
    "            side_map_tile_position = (position[0] + hor_ver_movement[0], position[1] + hor_ver_movement[1])\n",
    "            if side_map_tile_position in visited_positions:\n",
    "                if edge_exists_in_map(plant_map, side_map_tile_position, edge_side):\n",
    "                    return False\n",
    "        print(f\"\\t\\tAdding new side {edge_side} at {position}\")\n",
    "        return True\n",
    "    return False\n",
    "\n",
    "def count_sides(edge_list):\n",
    "    sides_count = 0\n",
    "    #print(edge_list)\n",
    "    while len(edge_list) > 0:\n",
    "        # For each edge we remove all edges that are aligned and consecutive with it to count 1 side\n",
    "        edge = edge_list.pop()\n",
    "        #print(f\"Edge being processed: {edge}\")\n",
    "        edge_side = edge[1]\n",
    "        initial_position = edge[0]\n",
    "        for side_direction in side_map_tiles[edge_side]:\n",
    "            #print(f\"\\tRemoving edges in the {edge_side} direction and going in the {side_direction} direction\")\n",
    "            movement = hor_ver_movements_map[side_direction]\n",
    "            next_position = (initial_position[0] + movement[0], initial_position[1] + movement[1])\n",
    "            while len(edge_list) > 0:\n",
    "                #print(f\"\\tEvaluating {next_position}\")\n",
    "                if (next_position, edge_side) in edge_list:\n",
    "                    #print(f\"\\t\\tRemoving edge {next_position} in the {edge_side} direction\")\n",
    "                    edge_list.remove((next_position, edge_side))\n",
    "                    next_position = (next_position[0] + movement[0], next_position[1] + movement[1])\n",
    "                else:\n",
    "                    break\n",
    "        sides_count += 1\n",
    "    return sides_count\n",
    "\n",
    "def get_plant_single_region_cost_2(plant_map, plant_position):\n",
    "    area = 0\n",
    "    sides_count = 0\n",
    "    plant_position_list = set([plant_position])\n",
    "    plant_positions_visited = set()\n",
    "    edge_list = set()\n",
    "    while len(plant_position_list) > 0:\n",
    "        position = plant_position_list.pop()\n",
    "        plant_positions_visited.add(position)\n",
    "        if plant_map[position[0], position[1]] == '1':\n",
    "            area += 1\n",
    "            for hor_ver_movement_key, hor_ver_movement in hor_ver_movements_map.items():\n",
    "                #sides_count += int(add_new_side(plant_map, position, hor_ver_movement_key, plant_positions_visited))\n",
    "                if edge_exists_in_map(plant_map, position, hor_ver_movement_key):\n",
    "                    edge_list.add((position, hor_ver_movement_key))\n",
    "                next_position = (position[0] + hor_ver_movement[0], position[1] + hor_ver_movement[1])\n",
    "                # Invalid positions -- out of the map\n",
    "                if next_position[0] < 0 or next_position[1] < 0:\n",
    "                    continue\n",
    "                try:\n",
    "                    if plant_map[next_position] == '1':\n",
    "                        if next_position not in plant_positions_visited:\n",
    "                            plant_position_list.add(next_position)\n",
    "                except IndexError:\n",
    "                    pass\n",
    "    sides_count = count_sides(edge_list)\n",
    "    #print(f\"\\tArea: {area} Sides: {sides_count}\")\n",
    "\n",
    "    return area*sides_count, plant_positions_visited\n",
    "\n",
    "def get_plant_total_fence_cost_2(garden_map, plant_type):\n",
    "    plant_map, plant_position_list = get_plant_land_in_garden(garden_map, plant_type)\n",
    "    plant_fence_cost = 0\n",
    "    while len(plant_position_list) > 0:\n",
    "        plant_position = plant_position_list.pop()\n",
    "        added_cost, plant_positions_visited = get_plant_single_region_cost_2(plant_map, plant_position)\n",
    "        plant_position_list = plant_position_list.difference(plant_positions_visited)\n",
    "        plant_fence_cost += added_cost\n",
    "    return plant_fence_cost\n",
    "\n",
    "def get_all_plants_total_fence_cost_2(garden_map):\n",
    "    plant_fence_cost = 0\n",
    "    plant_types = get_all_plant_types_in_garden(garden_map)\n",
    "    for plant_type in plant_types:\n",
    "        new_cost = get_plant_total_fence_cost_2(garden_map, plant_type)\n",
    "        print(f\"Plant {plant_type} cost: {new_cost}\")\n",
    "        plant_fence_cost += new_cost\n",
    "    return plant_fence_cost\n"
   ]
  },
  {
   "cell_type": "code",
   "execution_count": 31,
   "id": "bc3dc29e",
   "metadata": {},
   "outputs": [
    {
     "name": "stdout",
     "output_type": "stream",
     "text": [
      "Plant E cost: 34482\n",
      "Plant H cost: 40224\n",
      "Plant O cost: 52496\n",
      "Plant V cost: 37942\n",
      "Plant R cost: 10816\n",
      "Plant G cost: 39290\n",
      "Plant X cost: 31512\n",
      "Plant C cost: 18786\n",
      "Plant D cost: 11122\n",
      "Plant J cost: 32864\n",
      "Plant B cost: 32216\n",
      "Plant L cost: 43006\n",
      "Plant U cost: 31298\n",
      "Plant N cost: 87378\n",
      "Plant M cost: 25006\n",
      "Plant Y cost: 49914\n",
      "Plant A cost: 30856\n",
      "Plant S cost: 34142\n",
      "Plant Q cost: 23538\n",
      "Plant K cost: 35018\n",
      "Plant F cost: 17714\n",
      "Plant W cost: 22086\n",
      "Plant T cost: 34892\n",
      "Plant I cost: 24418\n",
      "Plant Z cost: 65124\n",
      "Plant P cost: 43926\n"
     ]
    },
    {
     "data": {
      "text/plain": [
       "910066"
      ]
     },
     "execution_count": 31,
     "metadata": {},
     "output_type": "execute_result"
    }
   ],
   "source": [
    "# Solve part 2\n",
    "get_all_plants_total_fence_cost_2(garden_map)"
   ]
  },
  {
   "cell_type": "code",
   "execution_count": null,
   "id": "59df997f",
   "metadata": {},
   "outputs": [],
   "source": []
  }
 ],
 "metadata": {
  "kernelspec": {
   "display_name": "eic_rapp",
   "language": "python",
   "name": "python3"
  },
  "language_info": {
   "codemirror_mode": {
    "name": "ipython",
    "version": 3
   },
   "file_extension": ".py",
   "mimetype": "text/x-python",
   "name": "python",
   "nbconvert_exporter": "python",
   "pygments_lexer": "ipython3",
   "version": "3.10.8"
  }
 },
 "nbformat": 4,
 "nbformat_minor": 5
}
