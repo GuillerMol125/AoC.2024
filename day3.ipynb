{
 "cells": [
  {
   "cell_type": "code",
   "execution_count": 1,
   "id": "795f12e4",
   "metadata": {},
   "outputs": [],
   "source": [
    "import sys, os\n",
    "import numpy as np\n",
    "import pandas as pd\n",
    "from utils.utils import read_txt, read_txt_np_int"
   ]
  },
  {
   "cell_type": "markdown",
   "id": "6cc20659",
   "metadata": {},
   "source": [
    "# INPUT"
   ]
  },
  {
   "cell_type": "code",
   "execution_count": 2,
   "id": "110246c7",
   "metadata": {},
   "outputs": [],
   "source": [
    "inputfilename = './inputs/day3A.txt'\n",
    "\n",
    "inputdata = read_txt(inputfilename)"
   ]
  },
  {
   "cell_type": "code",
   "execution_count": 3,
   "id": "57736128",
   "metadata": {},
   "outputs": [
    {
     "data": {
      "text/plain": [
       "\"@why(692,996)[&}}^where(81,407)mul(247,89):[&[{<mul(980,958),?mul(529,895)!<#~!$&~when()+mul(519,986)what())#mul(710,934)%??*'!<mul(813,338)! +$what()<don't(){^mul(396,693)mul(337,541)}what()*<](@?~mul(64,644)[where()who()~,))mul(528,450)!' -do()who()#]where():(mul(909,368)mul(259,743)''when()^?from()]select()#;mul(227,252)<mul(118,202)-&!(when(806,911)~]who(58,451)- mul(135,37);mul(75,773)?~when()where()]mul(93,321)where(),where()!when(769,449)where(616,323)@&mul(489,237)&;do()<mul(803,622)mul(616,264)!from()why()~@],@from()mul(499,593)#<?/&(when()':mul(237,54)&-],+mul(856,447)})select()mul(540,283)don't()'@how()@mul(701,900)?!['mul(958,898)mul(403,891)+*why()&-)mul(877,695)where()&}{<when()]:[(mul(70,638)<who()[mul(219,485)[why()+% +what()*who()>do())[when()![mul(681,521)when(130,722)@ ->)<,mul(658,134)what()who()}+}@/mul(458,625)when()}&mul(390,728)don't()?)(;mul(196,925);&*#&select()'$mul(57,17)~/#,?&/mul(470,374), do()%@mul(328,216) >what()]when()mul(788,804)mul(873,961)who()^&{>when()why()mul(246,793)~)why()& '>?mul(200,670)[what()~/how()why()#)mul(914,790)>mul(296,84)$>)  mul(176,130);from()from()mul(373,460)from()*>@/when()don't()'select()>when()</@#+mul(529,694){{what()why();#mul(827,797)when()why()><(<&'mul(549,679)from()]##(#mul(149,690)^:}[$!&<* mul(340,101)who()@who(829,301)@do()mul(663,477)who()~<~:+why()what()mul(675,2)select()from(264,335)'-mul(706,937)^who(),~mul(159,226)+&@;mul(432,401),^],^]]mul(481,229)who()^+?how()who()+mul(785,889)mul(353,752)# ]mul(194,854){>from()(<:(mul(796,423)#+$why()]mul(230,206)(mul(339,962){why():%'select()/^~mul(346,831)from()#{/where()]what()mul(489,415)how()!how();select()  mul(313,553)(from();?&@mul(276,256)'$mul(84,330)/{,;mul(540,534)(^]what(648,915){+-:}how()mul(979,837)who()@{mul(766,495)who()/'+/*<mul(587,194)/how()mul(516,226)',+from()?what()>don't()@why(){<!]who()&mul(365,928)from()what()what()@why(607,617) {mul(407+#what()+mul(516,503)@&>}who()do()[<'-who())+;mul(552,743)-}&<%%!mul(680,379)'?%(;))mul(713,945)mul(344,235)]<who()[~[('mul(688,707)]?&where()'@mul(508,935)how()]where()select()do()!%]:mul(498,637)'how()& (mul(32,268)~from()from()where()/-@[*who()do()$mul(475,443^% @why()!what()mul(357,992)['mul(926,286){mul(355,744)}mul(410,461);(!:mul(133,384)from()')what()$mul(538,201)mul(336,633)select()why()>^,&%!mul(462,965)where()select()^]when()*from()<#mul(801,899)?why()?,select(){mul(163,717)mul(309,666)!?mul(244,557)[(:mul(590,151):when()from()why()mul(734,459)#[from()@mul(599,980)when(){where()&,^who()>^select()mul(832,947)@-mul(986,539)mul(355,307)-#+mul(854,733)[/({how()*^mul(696,97))+++##what()mul(880,393);??how(958,390)when()(select()^:who()mul(184,872)why() [mul(180,329)what() don't()]~/from():[<>-(mul(330,122)]don't()^*}[from()mul(147,831)-where(486,652):#who()/mul(274,754)why()+;$]#,[mul(703,607)[<]&;&&@mul(277,256),mul(106,665)\""
      ]
     },
     "execution_count": 3,
     "metadata": {},
     "output_type": "execute_result"
    }
   ],
   "source": [
    "inputdata[0]"
   ]
  },
  {
   "cell_type": "markdown",
   "id": "14b0c6a3",
   "metadata": {},
   "source": [
    "## PART 1"
   ]
  },
  {
   "cell_type": "code",
   "execution_count": 14,
   "id": "2a031376",
   "metadata": {},
   "outputs": [],
   "source": [
    "def check_factor(factor):\n",
    "    if len(factor) > 3:\n",
    "        return False\n",
    "    if len(factor) == 0:\n",
    "        return False\n",
    "    for char in factor:\n",
    "        if not char.isdigit():\n",
    "            return False\n",
    "    return True\n",
    "\n",
    "def get_muls(line):\n",
    "    cumulative_product = 0\n",
    "    blocks = line.split('mul(')\n",
    "    for block in blocks[1:]:\n",
    "        subblock = block.split(')')[0]\n",
    "        factors = subblock.split(',')\n",
    "        if len(factors) == 2:\n",
    "            if check_factor(factors[0]) and check_factor(factors[1]):\n",
    "                product = int(factors[0]) * int(factors[1])\n",
    "                cumulative_product += product\n",
    "                #print(f\"{subblock} = {product}\")\n",
    "    return cumulative_product\n",
    "\n",
    "def get_all_muls(inputdata):\n",
    "    total = 0\n",
    "    for line in inputdata:\n",
    "        total += get_muls(line)\n",
    "    return total"
   ]
  },
  {
   "cell_type": "code",
   "execution_count": 15,
   "id": "a7d03473",
   "metadata": {},
   "outputs": [
    {
     "data": {
      "text/plain": [
       "173731097"
      ]
     },
     "execution_count": 15,
     "metadata": {},
     "output_type": "execute_result"
    }
   ],
   "source": [
    "get_all_muls(inputdata)"
   ]
  },
  {
   "cell_type": "markdown",
   "id": "b92ebbf5",
   "metadata": {},
   "source": [
    "## PART 2"
   ]
  },
  {
   "cell_type": "code",
   "execution_count": 26,
   "id": "ff1ab7cc",
   "metadata": {},
   "outputs": [],
   "source": [
    "def do_mul(line):\n",
    "    do_blocks = line.split(\"don't()\",1)\n",
    "    product = get_muls(do_blocks[0])\n",
    "    if len(do_blocks) == 1:\n",
    "        return product, 'do'\n",
    "    else:\n",
    "        return product + dont_mul(do_blocks[1])[0], dont_mul(do_blocks[1])[1]\n",
    "\n",
    "def dont_mul(line):\n",
    "    dont_blocks = line.split(\"do()\",1)\n",
    "    if len(dont_blocks) == 1:\n",
    "        return 0, 'dont'\n",
    "    else:\n",
    "        return do_mul(dont_blocks[1])\n",
    "\n",
    "def do_dont_mul_data(inputdata):\n",
    "    total = 0\n",
    "    last = 'do'\n",
    "    for line in inputdata:\n",
    "        if last == 'do':\n",
    "            total += do_mul(line)[0]\n",
    "            last = do_mul(line)[1]\n",
    "        else:\n",
    "            total += dont_mul(line)[0]\n",
    "            last = dont_mul(line)[1]\n",
    "    return total"
   ]
  },
  {
   "cell_type": "code",
   "execution_count": 27,
   "id": "4fe2dafb",
   "metadata": {},
   "outputs": [
    {
     "data": {
      "text/plain": [
       "93729253"
      ]
     },
     "execution_count": 27,
     "metadata": {},
     "output_type": "execute_result"
    }
   ],
   "source": [
    "do_dont_mul_data(inputdata)"
   ]
  },
  {
   "cell_type": "code",
   "execution_count": null,
   "id": "ce411055",
   "metadata": {},
   "outputs": [],
   "source": []
  }
 ],
 "metadata": {
  "kernelspec": {
   "display_name": "base",
   "language": "python",
   "name": "python3"
  },
  "language_info": {
   "codemirror_mode": {
    "name": "ipython",
    "version": 3
   },
   "file_extension": ".py",
   "mimetype": "text/x-python",
   "name": "python",
   "nbconvert_exporter": "python",
   "pygments_lexer": "ipython3",
   "version": "3.13.5"
  }
 },
 "nbformat": 4,
 "nbformat_minor": 5
}
