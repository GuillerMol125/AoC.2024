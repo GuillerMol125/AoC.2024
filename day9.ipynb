{
 "cells": [
  {
   "cell_type": "code",
   "execution_count": 1,
   "id": "795f12e4",
   "metadata": {},
   "outputs": [],
   "source": [
    "import sys, os\n",
    "import numpy as np\n",
    "import pandas as pd\n",
    "from utils.utils import read_txt, read_txt_np_int"
   ]
  },
  {
   "cell_type": "markdown",
   "id": "6cc20659",
   "metadata": {},
   "source": [
    "# INPUT"
   ]
  },
  {
   "cell_type": "code",
   "execution_count": 2,
   "id": "110246c7",
   "metadata": {},
   "outputs": [],
   "source": [
    "inputfilename = './inputs/day9A.txt'\n",
    "\n",
    "inputdata = read_txt(inputfilename)"
   ]
  },
  {
   "cell_type": "code",
   "execution_count": 17,
   "id": "57736128",
   "metadata": {},
   "outputs": [
    {
     "data": {
      "text/plain": [
       "19999"
      ]
     },
     "execution_count": 17,
     "metadata": {},
     "output_type": "execute_result"
    }
   ],
   "source": [
    "compressed_files = inputdata[0]\n",
    "len(compressed_files)"
   ]
  },
  {
   "cell_type": "markdown",
   "id": "14b0c6a3",
   "metadata": {},
   "source": [
    "## PART 1"
   ]
  },
  {
   "cell_type": "code",
   "execution_count": 46,
   "id": "cc1546f5",
   "metadata": {},
   "outputs": [],
   "source": [
    "def decompress_files(filedescription):\n",
    "    decompressed = []\n",
    "    for i in range(0, len(filedescription), 2):\n",
    "        fileid = int(i/2)\n",
    "        fileblocks = int(filedescription[i])\n",
    "        decompressed += [str(fileid) for repeat in range(fileblocks)]\n",
    "        try:\n",
    "            emptyblocks = int(filedescription[i+1])\n",
    "            decompressed += ['.' for repeat in range(emptyblocks)]\n",
    "        except IndexError:\n",
    "            pass\n",
    "    return decompressed\n",
    "\n",
    "def move_blocks(filedescription):\n",
    "    moved_filedescription = filedescription.copy()\n",
    "    empty_positions = list(np.where(filedescription == '.')[0])\n",
    "    filled_positions = list(np.where(filedescription != '.')[0])\n",
    "    empty_index, block_index = 0, 0\n",
    "    if len(empty_positions) > 0:\n",
    "        empty_index = empty_positions.pop(0)\n",
    "        block_index = filled_positions.pop(-1)\n",
    "    while empty_index < block_index:\n",
    "        moved_filedescription[empty_index] = filedescription[block_index]\n",
    "        moved_filedescription[block_index] = '.'\n",
    "        block_index = filled_positions.pop(-1)\n",
    "        if len(empty_positions) > 0:\n",
    "            empty_index = empty_positions.pop(0)\n",
    "        else:\n",
    "            empty_index = block_index\n",
    "\n",
    "    return moved_filedescription\n",
    "    \n",
    "def calc_checksum(filedescription):\n",
    "    \n",
    "    calc_filedescription = np.array(filedescription)\n",
    "    calc_filedescription = calc_filedescription[calc_filedescription != '.'].astype(int)\n",
    "\n",
    "    weight_array = np.array(range(len(calc_filedescription)))\n",
    "\n",
    "    checksum = np.sum(calc_filedescription * weight_array)\n",
    "    \n",
    "    return checksum\n"
   ]
  },
  {
   "cell_type": "code",
   "execution_count": 48,
   "id": "3ade765d",
   "metadata": {},
   "outputs": [
    {
     "name": "stdout",
     "output_type": "stream",
     "text": [
      "['0' '0' '.' ... '9999' '9999' '9999']\n",
      "['0' '0' '9999' ... '.' '.' '.']\n"
     ]
    },
    {
     "data": {
      "text/plain": [
       "np.int64(6307275788409)"
      ]
     },
     "execution_count": 48,
     "metadata": {},
     "output_type": "execute_result"
    }
   ],
   "source": [
    "test_files = '2333133121414131402'\n",
    "\n",
    "uncompressed_files = np.array(decompress_files(compressed_files))\n",
    "print(uncompressed_files)\n",
    "final_files = move_blocks(uncompressed_files)\n",
    "print(final_files)\n",
    "calc_checksum(final_files)"
   ]
  },
  {
   "cell_type": "markdown",
   "id": "b92ebbf5",
   "metadata": {},
   "source": [
    "## PART 2"
   ]
  },
  {
   "cell_type": "code",
   "execution_count": 178,
   "id": "8bdf9501",
   "metadata": {},
   "outputs": [],
   "source": [
    "def decompress_files_2(filedescription):\n",
    "    decompressed = []\n",
    "    empty_dict = {}\n",
    "    position_so_far = 0\n",
    "    for i in range(0, len(filedescription), 2):\n",
    "        fileid = int(i/2)\n",
    "        fileblocks = int(filedescription[i])\n",
    "        decompressed += [(fileid, position_so_far, fileblocks)]\n",
    "        position_so_far += fileblocks\n",
    "        try:\n",
    "            emptyblocks = int(filedescription[i+1])\n",
    "            if emptyblocks:\n",
    "                empty_dict[position_so_far] = emptyblocks\n",
    "            position_so_far += emptyblocks\n",
    "        except IndexError:\n",
    "            pass\n",
    "    return decompressed, empty_dict\n",
    "\n",
    "def move_blocks_2(decompressed_files_2, decompressed_files, input_empty_dict):\n",
    "    \n",
    "    empty_dict = input_empty_dict.copy()\n",
    "    for fileblock in decompressed_files_2[-1::-1]:\n",
    "        block_position = fileblock[1]\n",
    "        block_size = fileblock[2]\n",
    "        file_id = fileblock[0]\n",
    "        new_empty_space_size = 0\n",
    "\n",
    "        for empty_space_position, empty_space_size in sorted(empty_dict.items()):\n",
    "        \n",
    "            # Only accept empty spaces that are left of the block\n",
    "            if empty_space_position >= block_position:\n",
    "                break\n",
    "            # Only accept empty spaces that are larger than the block\n",
    "            if empty_space_size >= block_size:\n",
    "                # Adjust empty spaces\n",
    "                empty_dict[empty_space_position] = 0\n",
    "                new_empty_space_size = empty_space_size - block_size\n",
    "\n",
    "                # Update dict\n",
    "                if new_empty_space_size > 0:\n",
    "                    empty_dict[empty_space_position + block_size] = new_empty_space_size\n",
    "                \n",
    "                # Move block\n",
    "                decompressed_files[empty_space_position:empty_space_position+block_size] = decompressed_files[block_position:block_position+block_size]\n",
    "                decompressed_files[block_position:block_position+block_size] = ['.' for repeat in range(block_size)]\n",
    "    \n",
    "                # Once we moved the block we're done\n",
    "                break\n",
    "                        \n",
    "    return decompressed_files\n",
    "\n",
    "def calc_checksum_2(filedescription):\n",
    "    \n",
    "    calc_filedescription = np.array(filedescription)\n",
    "    calc_filedescription = calc_filedescription[calc_filedescription != '.'].astype(int)\n",
    "\n",
    "    weight_array = np.array(range(len(calc_filedescription)))\n",
    "\n",
    "    checksum = np.sum(calc_filedescription * weight_array)\n",
    "    \n",
    "    return checksum\n"
   ]
  },
  {
   "cell_type": "code",
   "execution_count": 179,
   "id": "c483938b",
   "metadata": {},
   "outputs": [
    {
     "data": {
      "text/plain": [
       "np.int64(2160)"
      ]
     },
     "execution_count": 179,
     "metadata": {},
     "output_type": "execute_result"
    }
   ],
   "source": [
    "# Solve part 2 - compressed_files\n",
    "uncompressed_files_2, empty_dict = decompress_files_2(test_files)\n",
    "uncompressed_files = decompress_files(test_files)\n",
    "final_uncompressed_files = move_blocks_2(uncompressed_files_2, uncompressed_files, empty_dict)\n",
    "\n",
    "calc_checksum_2(final_uncompressed_files)"
   ]
  },
  {
   "cell_type": "code",
   "execution_count": null,
   "id": "4cc3b47b",
   "metadata": {},
   "outputs": [],
   "source": []
  }
 ],
 "metadata": {
  "kernelspec": {
   "display_name": "eic_rapp",
   "language": "python",
   "name": "python3"
  },
  "language_info": {
   "codemirror_mode": {
    "name": "ipython",
    "version": 3
   },
   "file_extension": ".py",
   "mimetype": "text/x-python",
   "name": "python",
   "nbconvert_exporter": "python",
   "pygments_lexer": "ipython3",
   "version": "3.10.8"
  }
 },
 "nbformat": 4,
 "nbformat_minor": 5
}
