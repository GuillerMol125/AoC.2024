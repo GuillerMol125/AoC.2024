{
 "cells": [
  {
   "cell_type": "code",
   "execution_count": 1,
   "id": "795f12e4",
   "metadata": {},
   "outputs": [],
   "source": [
    "import sys, os\n",
    "import numpy as np\n",
    "import pandas as pd\n",
    "from utils.utils import read_txt, read_txt_np_int"
   ]
  },
  {
   "cell_type": "markdown",
   "id": "6cc20659",
   "metadata": {},
   "source": [
    "# INPUT"
   ]
  },
  {
   "cell_type": "code",
   "execution_count": null,
   "id": "110246c7",
   "metadata": {},
   "outputs": [],
   "source": [
    "inputfilename = './inputs/day8A.txt'\n",
    "\n",
    "inputdata = read_txt(inputfilename)"
   ]
  },
  {
   "cell_type": "code",
   "execution_count": 17,
   "id": "57736128",
   "metadata": {},
   "outputs": [
    {
     "name": "stdout",
     "output_type": "stream",
     "text": [
      "[['.' '.' '.' ... '.' '.' '.']\n",
      " ['.' '.' '.' ... '.' '.' '.']\n",
      " ['.' '.' '.' ... '.' '.' '.']\n",
      " ...\n",
      " ['.' '.' '.' ... '.' '.' '.']\n",
      " ['.' '.' '.' ... '.' '.' '.']\n",
      " ['.' '.' '.' ... '.' '.' '.']] (50, 50)\n"
     ]
    }
   ],
   "source": [
    "antenna_map = np.array([[x for x in line] for line in inputdata])\n",
    "print(antenna_map, antenna_map.shape)"
   ]
  },
  {
   "cell_type": "code",
   "execution_count": 16,
   "id": "49eb1aad",
   "metadata": {},
   "outputs": [
    {
     "name": "stdout",
     "output_type": "stream",
     "text": [
      "{np.str_('4'), np.str_('6'), np.str_('c'), np.str_('n'), np.str_('R'), np.str_('i'), np.str_('y'), np.str_('3'), np.str_('Y'), np.str_('8'), np.str_('E'), np.str_('x'), np.str_('G'), np.str_('h'), np.str_('7'), np.str_('5'), np.str_('e'), np.str_('w'), np.str_('1'), np.str_('g'), np.str_('v'), np.str_('A'), np.str_('d'), np.str_('0'), np.str_('D'), np.str_('N'), np.str_('2'), np.str_('9'), np.str_('H'), np.str_('r'), np.str_('a'), np.str_('C'), np.str_('q'), np.str_('m'), np.str_('V'), np.str_('M'), np.str_('K'), np.str_('b'), np.str_('I'), np.str_('k'), np.str_('Q'), np.str_('W'), np.str_('X'), np.str_('.'), np.str_('B')}\n"
     ]
    }
   ],
   "source": [
    "char_set = set(antenna_map.flatten())\n",
    "print(char_set)"
   ]
  },
  {
   "cell_type": "markdown",
   "id": "14b0c6a3",
   "metadata": {},
   "source": [
    "## PART 1"
   ]
  },
  {
   "cell_type": "code",
   "execution_count": 57,
   "id": "56675848",
   "metadata": {},
   "outputs": [],
   "source": [
    "antenna_locations_dict = {antenna_char: [np.array([np.where(antenna_map == antenna_char)[0][i], np.where(antenna_map == antenna_char)[1][i]]) for i in range(len(np.where(antenna_map == antenna_char)[0])) ] for antenna_char in char_set}\n",
    "antenna_locations_dict.pop('.')\n",
    "map_size = antenna_map.shape"
   ]
  },
  {
   "cell_type": "code",
   "execution_count": 58,
   "id": "f5b7aff1",
   "metadata": {},
   "outputs": [],
   "source": [
    "def find_resonance_points(antenna1, antenna2, map_size):\n",
    "    resonance_points = set()\n",
    "    deviation = antenna2 - antenna1\n",
    "    resonance1 = antenna1 - deviation\n",
    "    if resonance1[0] >= 0 and resonance1[0] < map_size[0] and resonance1[1] >= 0 and resonance1[1] < map_size[1]:\n",
    "        resonance_points.add(tuple(resonance1))\n",
    "    resonance2 = antenna2 + deviation\n",
    "    if resonance2[0] >= 0 and resonance2[0] < map_size[0] and resonance2[1] >= 0 and resonance2[1] < map_size[1]:\n",
    "        resonance_points.add(tuple(resonance2))\n",
    "    return resonance_points\n",
    "\n",
    "def find_resonance_points_list(antenna_location_list, map_size):\n",
    "    resonance_points = set()\n",
    "    for i in range(len(antenna_location_list)):\n",
    "        for j in range(i+1, len(antenna_location_list)):\n",
    "            resonance_points.update(find_resonance_points(antenna_location_list[i], antenna_location_list[j], map_size))\n",
    "    \n",
    "    return resonance_points"
   ]
  },
  {
   "cell_type": "code",
   "execution_count": 59,
   "id": "e05eb72b",
   "metadata": {},
   "outputs": [
    {
     "data": {
      "text/plain": [
       "{(np.int64(1), np.int64(5)), (np.int64(4), np.int64(20))}"
      ]
     },
     "execution_count": 59,
     "metadata": {},
     "output_type": "execute_result"
    }
   ],
   "source": [
    "find_resonance_points(np.array([2, 10]), np.array([3,15]), map_size)"
   ]
  },
  {
   "cell_type": "code",
   "execution_count": 60,
   "id": "d3f60d81",
   "metadata": {},
   "outputs": [
    {
     "name": "stdout",
     "output_type": "stream",
     "text": [
      "Processing antenna 4\n",
      "Processing antenna 6\n",
      "Processing antenna c\n",
      "Processing antenna n\n",
      "Processing antenna R\n",
      "Processing antenna i\n",
      "Processing antenna y\n",
      "Processing antenna 3\n",
      "Processing antenna Y\n",
      "Processing antenna 8\n",
      "Processing antenna E\n",
      "Processing antenna x\n",
      "Processing antenna G\n",
      "Processing antenna h\n",
      "Processing antenna 7\n",
      "Processing antenna 5\n",
      "Processing antenna e\n",
      "Processing antenna w\n",
      "Processing antenna 1\n",
      "Processing antenna g\n",
      "Processing antenna v\n",
      "Processing antenna A\n",
      "Processing antenna d\n",
      "Processing antenna 0\n",
      "Processing antenna D\n",
      "Processing antenna N\n",
      "Processing antenna 2\n",
      "Processing antenna 9\n",
      "Processing antenna H\n",
      "Processing antenna r\n",
      "Processing antenna a\n",
      "Processing antenna C\n",
      "Processing antenna q\n",
      "Processing antenna m\n",
      "Processing antenna V\n",
      "Processing antenna M\n",
      "Processing antenna K\n",
      "Processing antenna b\n",
      "Processing antenna I\n",
      "Processing antenna k\n",
      "Processing antenna Q\n",
      "Processing antenna W\n",
      "Processing antenna X\n",
      "Processing antenna B\n",
      "Found 256 resonance points\n"
     ]
    }
   ],
   "source": [
    "# Solve part1\n",
    "resonance_points = set()\n",
    "for antenna_char, antenna_locations_list in antenna_locations_dict.items():\n",
    "    print(f\"Processing antenna {antenna_char}\")\n",
    "    resonance_points.update(find_resonance_points_list(antenna_locations_list, map_size))\n",
    "print(f\"Found {len(resonance_points)} resonance points\")"
   ]
  },
  {
   "cell_type": "markdown",
   "id": "b92ebbf5",
   "metadata": {},
   "source": [
    "## PART 2"
   ]
  },
  {
   "cell_type": "code",
   "execution_count": 61,
   "id": "2db5610d",
   "metadata": {},
   "outputs": [],
   "source": [
    "def find_resonance_points_2(antenna1, antenna2, map_size):\n",
    "    resonance_points = set()\n",
    "    deviation = antenna2 - antenna1\n",
    "    resonance_point = antenna1\n",
    "    while resonance_point[0] >= 0 and resonance_point[0] < map_size[0] and resonance_point[1] >= 0 and resonance_point[1] < map_size[1]:\n",
    "        resonance_points.add(tuple(resonance_point))\n",
    "        resonance_point = resonance_point - deviation\n",
    "    resonance_point = antenna2\n",
    "    while resonance_point[0] >= 0 and resonance_point[0] < map_size[0] and resonance_point[1] >= 0 and resonance_point[1] < map_size[1]:\n",
    "        resonance_points.add(tuple(resonance_point))\n",
    "        resonance_point = resonance_point + deviation\n",
    "    return resonance_points\n",
    "\n",
    "def find_resonance_points_list_2(antenna_location_list, map_size):\n",
    "    resonance_points = set()\n",
    "    for i in range(len(antenna_location_list)):\n",
    "        for j in range(i+1, len(antenna_location_list)):\n",
    "            resonance_points.update(find_resonance_points_2(antenna_location_list[i], antenna_location_list[j], map_size))\n",
    "    \n",
    "    return resonance_points"
   ]
  },
  {
   "cell_type": "code",
   "execution_count": 62,
   "id": "3220b6f2",
   "metadata": {},
   "outputs": [
    {
     "data": {
      "text/plain": [
       "{(np.int64(0), np.int64(0)),\n",
       " (np.int64(1), np.int64(5)),\n",
       " (np.int64(2), np.int64(10)),\n",
       " (np.int64(3), np.int64(15)),\n",
       " (np.int64(4), np.int64(20)),\n",
       " (np.int64(5), np.int64(25)),\n",
       " (np.int64(6), np.int64(30)),\n",
       " (np.int64(7), np.int64(35)),\n",
       " (np.int64(8), np.int64(40)),\n",
       " (np.int64(9), np.int64(45))}"
      ]
     },
     "execution_count": 62,
     "metadata": {},
     "output_type": "execute_result"
    }
   ],
   "source": [
    "find_resonance_points_2(np.array([2, 10]), np.array([3,15]), map_size)"
   ]
  },
  {
   "cell_type": "code",
   "execution_count": 63,
   "id": "731eefaf",
   "metadata": {},
   "outputs": [
    {
     "name": "stdout",
     "output_type": "stream",
     "text": [
      "Processing antenna 4\n",
      "Processing antenna 6\n",
      "Processing antenna c\n",
      "Processing antenna n\n",
      "Processing antenna R\n",
      "Processing antenna i\n",
      "Processing antenna y\n",
      "Processing antenna 3\n",
      "Processing antenna Y\n",
      "Processing antenna 8\n",
      "Processing antenna E\n",
      "Processing antenna x\n",
      "Processing antenna G\n",
      "Processing antenna h\n",
      "Processing antenna 7\n",
      "Processing antenna 5\n",
      "Processing antenna e\n",
      "Processing antenna w\n",
      "Processing antenna 1\n",
      "Processing antenna g\n",
      "Processing antenna v\n",
      "Processing antenna A\n",
      "Processing antenna d\n",
      "Processing antenna 0\n",
      "Processing antenna D\n",
      "Processing antenna N\n",
      "Processing antenna 2\n",
      "Processing antenna 9\n",
      "Processing antenna H\n",
      "Processing antenna r\n",
      "Processing antenna a\n",
      "Processing antenna C\n",
      "Processing antenna q\n",
      "Processing antenna m\n",
      "Processing antenna V\n",
      "Processing antenna M\n",
      "Processing antenna K\n",
      "Processing antenna b\n",
      "Processing antenna I\n",
      "Processing antenna k\n",
      "Processing antenna Q\n",
      "Processing antenna W\n",
      "Processing antenna X\n",
      "Processing antenna B\n",
      "Found 1005 resonance points\n"
     ]
    }
   ],
   "source": [
    "# Solve part2\n",
    "resonance_points = set()\n",
    "for antenna_char, antenna_locations_list in antenna_locations_dict.items():\n",
    "    print(f\"Processing antenna {antenna_char}\")\n",
    "    resonance_points.update(find_resonance_points_list_2(antenna_locations_list, map_size))\n",
    "print(f\"Found {len(resonance_points)} resonance points\")"
   ]
  },
  {
   "cell_type": "code",
   "execution_count": null,
   "id": "8bdf9501",
   "metadata": {},
   "outputs": [],
   "source": []
  }
 ],
 "metadata": {
  "kernelspec": {
   "display_name": "eic_rapp",
   "language": "python",
   "name": "python3"
  },
  "language_info": {
   "codemirror_mode": {
    "name": "ipython",
    "version": 3
   },
   "file_extension": ".py",
   "mimetype": "text/x-python",
   "name": "python",
   "nbconvert_exporter": "python",
   "pygments_lexer": "ipython3",
   "version": "3.10.8"
  }
 },
 "nbformat": 4,
 "nbformat_minor": 5
}
