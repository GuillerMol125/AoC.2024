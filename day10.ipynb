{
 "cells": [
  {
   "cell_type": "code",
   "execution_count": 1,
   "id": "795f12e4",
   "metadata": {},
   "outputs": [],
   "source": [
    "import sys, os\n",
    "import numpy as np\n",
    "import pandas as pd\n",
    "from utils.utils import read_txt, read_txt_np_int"
   ]
  },
  {
   "cell_type": "markdown",
   "id": "6cc20659",
   "metadata": {},
   "source": [
    "# INPUT"
   ]
  },
  {
   "cell_type": "code",
   "execution_count": 3,
   "id": "110246c7",
   "metadata": {},
   "outputs": [],
   "source": [
    "inputfilename = './inputs/day10A.txt'\n",
    "\n",
    "inputdata = read_txt(inputfilename)\n",
    "\n",
    "testdata = [\"89010123\",\n",
    "\"78121874\",\n",
    "\"87430965\",\n",
    "\"96549874\",\n",
    "\"45678903\",\n",
    "\"32019012\",\n",
    "\"01329801\",\n",
    "\"10456732\"]"
   ]
  },
  {
   "cell_type": "code",
   "execution_count": 59,
   "id": "57736128",
   "metadata": {},
   "outputs": [
    {
     "data": {
      "text/plain": [
       "array([[8, 9, 8, ..., 6, 7, 6],\n",
       "       [7, 8, 7, ..., 5, 8, 9],\n",
       "       [0, 1, 6, ..., 4, 3, 9],\n",
       "       ...,\n",
       "       [3, 6, 9, ..., 6, 6, 8],\n",
       "       [4, 5, 2, ..., 7, 8, 9],\n",
       "       [5, 4, 3, ..., 2, 1, 0]], shape=(40, 40))"
      ]
     },
     "execution_count": 59,
     "metadata": {},
     "output_type": "execute_result"
    }
   ],
   "source": [
    "data_to_use = inputdata\n",
    "\n",
    "elevation_map = np.array([[char for char in line ] for line in data_to_use]).astype(int)\n",
    "elevation_map\n"
   ]
  },
  {
   "cell_type": "markdown",
   "id": "14b0c6a3",
   "metadata": {},
   "source": [
    "## PART 1"
   ]
  },
  {
   "cell_type": "code",
   "execution_count": 46,
   "id": "d7b9485a",
   "metadata": {},
   "outputs": [],
   "source": [
    "def find_start_points(elevation_map, elevation=0):\n",
    "    return [(np.where(elevation_map == elevation)[0][i], np.where(elevation_map == elevation)[1][i]) for i in range(len(np.where(elevation_map == elevation)[0]))]"
   ]
  },
  {
   "cell_type": "code",
   "execution_count": 43,
   "id": "1759fff3",
   "metadata": {},
   "outputs": [
    {
     "data": {
      "text/plain": [
       "[(np.int64(0), np.int64(2)),\n",
       " (np.int64(0), np.int64(4)),\n",
       " (np.int64(2), np.int64(4)),\n",
       " (np.int64(4), np.int64(6)),\n",
       " (np.int64(5), np.int64(2)),\n",
       " (np.int64(5), np.int64(5)),\n",
       " (np.int64(6), np.int64(0)),\n",
       " (np.int64(6), np.int64(6)),\n",
       " (np.int64(7), np.int64(1))]"
      ]
     },
     "execution_count": 43,
     "metadata": {},
     "output_type": "execute_result"
    }
   ],
   "source": [
    "find_start_points(elevation_map)"
   ]
  },
  {
   "cell_type": "code",
   "execution_count": 36,
   "id": "99b7a3ec",
   "metadata": {},
   "outputs": [],
   "source": [
    "hor_ver_deviations = np.array([[1, 0], [0, 1], [-1, 0], [0, -1]])\n",
    "\n",
    "def find_next_step(elevation_map, position):\n",
    "    next_steps = set()\n",
    "    for deviation in hor_ver_deviations:\n",
    "        next_position = (position[0] + deviation[0], position[1] + deviation[1])\n",
    "        if next_position[0] < 0 or next_position[1] < 0:\n",
    "            continue\n",
    "        try:\n",
    "            if elevation_map[next_position] == elevation_map[position] + 1:\n",
    "                next_steps.add(next_position)\n",
    "        except IndexError:\n",
    "            pass\n",
    "    return next_steps\n",
    "\n",
    "def find_next_step_list(elevation_map, positions):\n",
    "    next_steps = set()\n",
    "    for position in positions:\n",
    "        next_steps = next_steps.union(find_next_step(elevation_map, position))\n",
    "    return next_steps\n",
    "\n",
    "def reach_summit(elevation_map, starting_position, final_height = 9):\n",
    "    current_elevation = elevation_map[starting_position]\n",
    "    current_positions = set([starting_position])\n",
    "    # Increase one elevation level at a time and check we have reached that level\n",
    "    while current_elevation < final_height and len(current_positions) > 0:\n",
    "        current_positions = find_next_step_list(elevation_map, current_positions)\n",
    "        #print(f\"Found {current_positions} positions at elevation {current_elevation}\")\n",
    "        current_elevation += 1\n",
    "    for final_position in current_positions:\n",
    "        assert(elevation_map[final_position] == final_height)\n",
    "    return current_positions\n"
   ]
  },
  {
   "cell_type": "code",
   "execution_count": 37,
   "id": "05b08d9d",
   "metadata": {},
   "outputs": [
    {
     "name": "stdout",
     "output_type": "stream",
     "text": [
      "482\n"
     ]
    }
   ],
   "source": [
    "# Solve part 1\n",
    "trailheads = 0\n",
    "for starting_position in find_start_points(elevation_map):\n",
    "    current_trailheads = len(reach_summit(elevation_map, starting_position))\n",
    "    #print(f\"Found {current_trailheads} trailheads at {starting_position}\")\n",
    "    trailheads += current_trailheads\n",
    "print(trailheads)"
   ]
  },
  {
   "cell_type": "code",
   "execution_count": null,
   "id": "afff45ad",
   "metadata": {},
   "outputs": [
    {
     "name": "stdout",
     "output_type": "stream",
     "text": [
      "Found {(np.int64(6), np.int64(1)), (np.int64(7), np.int64(0)), (np.int64(6), np.int64(-1))} positions at elevation 0\n",
      "Found {(np.int64(7), np.int64(-1)), (np.int64(5), np.int64(-1)), (np.int64(5), np.int64(1))} positions at elevation 1\n",
      "Found {(np.int64(7), np.int64(-2)), (np.int64(5), np.int64(0)), (np.int64(4), np.int64(-1))} positions at elevation 2\n",
      "Found {(np.int64(4), np.int64(0)), (np.int64(3), np.int64(-1))} positions at elevation 3\n",
      "Found {(np.int64(2), np.int64(-1)), (np.int64(4), np.int64(1))} positions at elevation 4\n",
      "Found {(np.int64(3), np.int64(1)), (np.int64(2), np.int64(-2)), (np.int64(4), np.int64(2))} positions at elevation 5\n",
      "Found {(np.int64(1), np.int64(-2)), (np.int64(3), np.int64(-2)), (np.int64(2), np.int64(1)), (np.int64(4), np.int64(3))} positions at elevation 6\n",
      "Found {(np.int64(4), np.int64(4)), (np.int64(1), np.int64(-3)), (np.int64(1), np.int64(1)), (np.int64(3), np.int64(-3)), (np.int64(2), np.int64(0))} positions at elevation 7\n",
      "Found {(np.int64(0), np.int64(1)), (np.int64(4), np.int64(5)), (np.int64(3), np.int64(4)), (np.int64(4), np.int64(-3)), (np.int64(2), np.int64(-3)), (np.int64(3), np.int64(-4)), (np.int64(5), np.int64(4)), (np.int64(3), np.int64(0))} positions at elevation 8\n"
     ]
    },
    {
     "data": {
      "text/plain": [
       "{(np.int64(0), np.int64(1)),\n",
       " (np.int64(2), np.int64(-3)),\n",
       " (np.int64(3), np.int64(-4)),\n",
       " (np.int64(3), np.int64(0)),\n",
       " (np.int64(3), np.int64(4)),\n",
       " (np.int64(4), np.int64(-3)),\n",
       " (np.int64(4), np.int64(5)),\n",
       " (np.int64(5), np.int64(4))}"
      ]
     },
     "execution_count": 28,
     "metadata": {},
     "output_type": "execute_result"
    }
   ],
   "source": [
    "reach_summit(elevation_map, (6, 0))"
   ]
  },
  {
   "cell_type": "markdown",
   "id": "b92ebbf5",
   "metadata": {},
   "source": [
    "## PART 2"
   ]
  },
  {
   "cell_type": "code",
   "execution_count": 60,
   "id": "f0c8acea",
   "metadata": {},
   "outputs": [],
   "source": [
    "def find_previous_step_rating(elevation_map, rating_map, position):\n",
    "    next_positions = set()\n",
    "    current_elevation = elevation_map[position]\n",
    "    current_trail_rating = rating_map[position]\n",
    "    assert(current_elevation > 0)\n",
    "    for deviation in hor_ver_deviations:\n",
    "        next_position = (position[0] + deviation[0], position[1] + deviation[1])\n",
    "        if next_position[0] < 0 or next_position[1] < 0:\n",
    "            continue\n",
    "        try:\n",
    "            # Increase the trail rating for all previous positions\n",
    "            if elevation_map[next_position] == current_elevation - 1:\n",
    "                rating_map[next_position] += current_trail_rating\n",
    "                next_positions.add(next_position)\n",
    "        except IndexError:\n",
    "            pass\n",
    "    return rating_map, next_positions\n",
    "\n",
    "def find_previous_step_rating_list(elevation_map, rating_map, positions):\n",
    "    next_positions = set()\n",
    "    for position in positions:\n",
    "        rating_map, next_positions_iter = find_previous_step_rating(elevation_map, rating_map, position)\n",
    "        next_positions = next_positions.union(next_positions_iter)\n",
    "    return rating_map, next_positions\n",
    "\n",
    "def find_summit_rating(elevation_map, final_height = 9):\n",
    "    rating_map = (elevation_map == final_height).astype(int)\n",
    "    next_positions = find_start_points(elevation_map, final_height)\n",
    "    current_elevation = final_height\n",
    "    while current_elevation > 0:\n",
    "        rating_map, next_positions = find_previous_step_rating_list(elevation_map, rating_map, next_positions)\n",
    "        current_elevation -= 1\n",
    "    rating = np.sum(rating_map * (elevation_map == 0).astype(int))\n",
    "    return rating, rating_map, next_positions, current_elevation\n",
    "\n",
    "    "
   ]
  },
  {
   "cell_type": "code",
   "execution_count": 56,
   "id": "e2649c78",
   "metadata": {},
   "outputs": [
    {
     "data": {
      "text/plain": [
       "array([[0, 1, 0, 0, 0, 0, 0, 0],\n",
       "       [0, 0, 0, 0, 0, 0, 0, 0],\n",
       "       [0, 0, 0, 0, 0, 1, 0, 0],\n",
       "       [1, 0, 0, 0, 1, 0, 0, 0],\n",
       "       [0, 0, 0, 0, 0, 1, 0, 0],\n",
       "       [0, 0, 0, 0, 1, 0, 0, 0],\n",
       "       [0, 0, 0, 0, 1, 0, 0, 0],\n",
       "       [0, 0, 0, 0, 0, 0, 0, 0]])"
      ]
     },
     "execution_count": 56,
     "metadata": {},
     "output_type": "execute_result"
    }
   ],
   "source": [
    "(elevation_map == 9).astype(int)"
   ]
  },
  {
   "cell_type": "code",
   "execution_count": 61,
   "id": "12c3a347",
   "metadata": {},
   "outputs": [
    {
     "data": {
      "text/plain": [
       "(np.int64(1094),\n",
       " array([[1, 1, 1, ..., 1, 1, 1],\n",
       "        [2, 1, 3, ..., 1, 1, 1],\n",
       "        [6, 3, 3, ..., 1, 1, 1],\n",
       "        ...,\n",
       "        [2, 2, 1, ..., 1, 1, 1],\n",
       "        [2, 2, 2, ..., 1, 1, 1],\n",
       "        [0, 2, 2, ..., 1, 1, 1]], shape=(40, 40)),\n",
       " {(np.int64(0), np.int64(3)),\n",
       "  (np.int64(0), np.int64(7)),\n",
       "  (np.int64(0), np.int64(17)),\n",
       "  (np.int64(0), np.int64(30)),\n",
       "  (np.int64(0), np.int64(32)),\n",
       "  (np.int64(1), np.int64(4)),\n",
       "  (np.int64(1), np.int64(12)),\n",
       "  (np.int64(1), np.int64(16)),\n",
       "  (np.int64(1), np.int64(24)),\n",
       "  (np.int64(1), np.int64(25)),\n",
       "  (np.int64(1), np.int64(33)),\n",
       "  (np.int64(2), np.int64(0)),\n",
       "  (np.int64(2), np.int64(4)),\n",
       "  (np.int64(2), np.int64(9)),\n",
       "  (np.int64(2), np.int64(17)),\n",
       "  (np.int64(2), np.int64(20)),\n",
       "  (np.int64(3), np.int64(5)),\n",
       "  (np.int64(4), np.int64(0)),\n",
       "  (np.int64(4), np.int64(17)),\n",
       "  (np.int64(4), np.int64(20)),\n",
       "  (np.int64(4), np.int64(29)),\n",
       "  (np.int64(4), np.int64(37)),\n",
       "  (np.int64(5), np.int64(2)),\n",
       "  (np.int64(5), np.int64(24)),\n",
       "  (np.int64(5), np.int64(37)),\n",
       "  (np.int64(5), np.int64(38)),\n",
       "  (np.int64(6), np.int64(3)),\n",
       "  (np.int64(6), np.int64(7)),\n",
       "  (np.int64(6), np.int64(9)),\n",
       "  (np.int64(6), np.int64(22)),\n",
       "  (np.int64(6), np.int64(29)),\n",
       "  (np.int64(6), np.int64(32)),\n",
       "  (np.int64(7), np.int64(9)),\n",
       "  (np.int64(7), np.int64(11)),\n",
       "  (np.int64(7), np.int64(13)),\n",
       "  (np.int64(7), np.int64(16)),\n",
       "  (np.int64(7), np.int64(24)),\n",
       "  (np.int64(7), np.int64(34)),\n",
       "  (np.int64(8), np.int64(14)),\n",
       "  (np.int64(8), np.int64(19)),\n",
       "  (np.int64(8), np.int64(25)),\n",
       "  (np.int64(8), np.int64(29)),\n",
       "  (np.int64(9), np.int64(36)),\n",
       "  (np.int64(10), np.int64(4)),\n",
       "  (np.int64(10), np.int64(8)),\n",
       "  (np.int64(10), np.int64(18)),\n",
       "  (np.int64(10), np.int64(20)),\n",
       "  (np.int64(10), np.int64(22)),\n",
       "  (np.int64(10), np.int64(28)),\n",
       "  (np.int64(10), np.int64(31)),\n",
       "  (np.int64(12), np.int64(2)),\n",
       "  (np.int64(12), np.int64(6)),\n",
       "  (np.int64(12), np.int64(8)),\n",
       "  (np.int64(12), np.int64(16)),\n",
       "  (np.int64(12), np.int64(18)),\n",
       "  (np.int64(12), np.int64(24)),\n",
       "  (np.int64(12), np.int64(27)),\n",
       "  (np.int64(12), np.int64(34)),\n",
       "  (np.int64(12), np.int64(39)),\n",
       "  (np.int64(13), np.int64(0)),\n",
       "  (np.int64(13), np.int64(22)),\n",
       "  (np.int64(13), np.int64(23)),\n",
       "  (np.int64(13), np.int64(26)),\n",
       "  (np.int64(13), np.int64(35)),\n",
       "  (np.int64(14), np.int64(4)),\n",
       "  (np.int64(14), np.int64(8)),\n",
       "  (np.int64(14), np.int64(32)),\n",
       "  (np.int64(14), np.int64(36)),\n",
       "  (np.int64(15), np.int64(9)),\n",
       "  (np.int64(15), np.int64(16)),\n",
       "  (np.int64(15), np.int64(33)),\n",
       "  (np.int64(16), np.int64(6)),\n",
       "  (np.int64(16), np.int64(10)),\n",
       "  (np.int64(16), np.int64(17)),\n",
       "  (np.int64(16), np.int64(27)),\n",
       "  (np.int64(16), np.int64(34)),\n",
       "  (np.int64(17), np.int64(7)),\n",
       "  (np.int64(17), np.int64(24)),\n",
       "  (np.int64(17), np.int64(31)),\n",
       "  (np.int64(18), np.int64(2)),\n",
       "  (np.int64(18), np.int64(3)),\n",
       "  (np.int64(18), np.int64(6)),\n",
       "  (np.int64(18), np.int64(10)),\n",
       "  (np.int64(18), np.int64(14)),\n",
       "  (np.int64(18), np.int64(22)),\n",
       "  (np.int64(18), np.int64(23)),\n",
       "  (np.int64(18), np.int64(39)),\n",
       "  (np.int64(19), np.int64(1)),\n",
       "  (np.int64(19), np.int64(11)),\n",
       "  (np.int64(19), np.int64(15)),\n",
       "  (np.int64(19), np.int64(18)),\n",
       "  (np.int64(19), np.int64(23)),\n",
       "  (np.int64(19), np.int64(29)),\n",
       "  (np.int64(20), np.int64(39)),\n",
       "  (np.int64(21), np.int64(1)),\n",
       "  (np.int64(21), np.int64(13)),\n",
       "  (np.int64(21), np.int64(18)),\n",
       "  (np.int64(21), np.int64(33)),\n",
       "  (np.int64(22), np.int64(11)),\n",
       "  (np.int64(22), np.int64(26)),\n",
       "  (np.int64(22), np.int64(29)),\n",
       "  (np.int64(22), np.int64(32)),\n",
       "  (np.int64(22), np.int64(36)),\n",
       "  (np.int64(23), np.int64(6)),\n",
       "  (np.int64(23), np.int64(8)),\n",
       "  (np.int64(23), np.int64(17)),\n",
       "  (np.int64(23), np.int64(23)),\n",
       "  (np.int64(23), np.int64(38)),\n",
       "  (np.int64(24), np.int64(5)),\n",
       "  (np.int64(24), np.int64(14)),\n",
       "  (np.int64(24), np.int64(29)),\n",
       "  (np.int64(25), np.int64(2)),\n",
       "  (np.int64(25), np.int64(8)),\n",
       "  (np.int64(25), np.int64(21)),\n",
       "  (np.int64(25), np.int64(39)),\n",
       "  (np.int64(26), np.int64(0)),\n",
       "  (np.int64(26), np.int64(7)),\n",
       "  (np.int64(26), np.int64(14)),\n",
       "  (np.int64(26), np.int64(18)),\n",
       "  (np.int64(26), np.int64(23)),\n",
       "  (np.int64(26), np.int64(29)),\n",
       "  (np.int64(26), np.int64(36)),\n",
       "  (np.int64(27), np.int64(7)),\n",
       "  (np.int64(27), np.int64(12)),\n",
       "  (np.int64(27), np.int64(16)),\n",
       "  (np.int64(27), np.int64(19)),\n",
       "  (np.int64(27), np.int64(21)),\n",
       "  (np.int64(27), np.int64(29)),\n",
       "  (np.int64(27), np.int64(31)),\n",
       "  (np.int64(28), np.int64(0)),\n",
       "  (np.int64(28), np.int64(6)),\n",
       "  (np.int64(28), np.int64(23)),\n",
       "  (np.int64(28), np.int64(27)),\n",
       "  (np.int64(28), np.int64(30)),\n",
       "  (np.int64(29), np.int64(8)),\n",
       "  (np.int64(29), np.int64(11)),\n",
       "  (np.int64(29), np.int64(21)),\n",
       "  (np.int64(29), np.int64(39)),\n",
       "  (np.int64(30), np.int64(13)),\n",
       "  (np.int64(30), np.int64(17)),\n",
       "  (np.int64(30), np.int64(32)),\n",
       "  (np.int64(30), np.int64(33)),\n",
       "  (np.int64(30), np.int64(36)),\n",
       "  (np.int64(31), np.int64(22)),\n",
       "  (np.int64(31), np.int64(26)),\n",
       "  (np.int64(31), np.int64(28)),\n",
       "  (np.int64(31), np.int64(35)),\n",
       "  (np.int64(32), np.int64(7)),\n",
       "  (np.int64(32), np.int64(13)),\n",
       "  (np.int64(32), np.int64(25)),\n",
       "  (np.int64(33), np.int64(3)),\n",
       "  (np.int64(33), np.int64(5)),\n",
       "  (np.int64(33), np.int64(18)),\n",
       "  (np.int64(33), np.int64(21)),\n",
       "  (np.int64(33), np.int64(35)),\n",
       "  (np.int64(33), np.int64(36)),\n",
       "  (np.int64(34), np.int64(8)),\n",
       "  (np.int64(34), np.int64(21)),\n",
       "  (np.int64(34), np.int64(31)),\n",
       "  (np.int64(35), np.int64(1)),\n",
       "  (np.int64(36), np.int64(15)),\n",
       "  (np.int64(36), np.int64(17)),\n",
       "  (np.int64(36), np.int64(35)),\n",
       "  (np.int64(36), np.int64(39)),\n",
       "  (np.int64(37), np.int64(3)),\n",
       "  (np.int64(37), np.int64(13)),\n",
       "  (np.int64(37), np.int64(20)),\n",
       "  (np.int64(37), np.int64(28)),\n",
       "  (np.int64(37), np.int64(31)),\n",
       "  (np.int64(38), np.int64(4)),\n",
       "  (np.int64(38), np.int64(6)),\n",
       "  (np.int64(38), np.int64(10)),\n",
       "  (np.int64(38), np.int64(13)),\n",
       "  (np.int64(38), np.int64(24)),\n",
       "  (np.int64(38), np.int64(25)),\n",
       "  (np.int64(39), np.int64(11)),\n",
       "  (np.int64(39), np.int64(23)),\n",
       "  (np.int64(39), np.int64(27)),\n",
       "  (np.int64(39), np.int64(39))},\n",
       " 0)"
      ]
     },
     "execution_count": 61,
     "metadata": {},
     "output_type": "execute_result"
    }
   ],
   "source": [
    "# Solve part 2\n",
    "find_summit_rating(elevation_map)"
   ]
  },
  {
   "cell_type": "code",
   "execution_count": null,
   "id": "29f75ed8",
   "metadata": {},
   "outputs": [],
   "source": []
  }
 ],
 "metadata": {
  "kernelspec": {
   "display_name": "eic_rapp",
   "language": "python",
   "name": "python3"
  },
  "language_info": {
   "codemirror_mode": {
    "name": "ipython",
    "version": 3
   },
   "file_extension": ".py",
   "mimetype": "text/x-python",
   "name": "python",
   "nbconvert_exporter": "python",
   "pygments_lexer": "ipython3",
   "version": "3.10.8"
  }
 },
 "nbformat": 4,
 "nbformat_minor": 5
}
