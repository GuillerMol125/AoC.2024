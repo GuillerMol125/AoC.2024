{
 "cells": [
  {
   "cell_type": "code",
   "execution_count": 1,
   "id": "795f12e4",
   "metadata": {},
   "outputs": [],
   "source": [
    "import sys, os\n",
    "import numpy as np\n",
    "np.set_printoptions(threshold=np.inf)\n",
    "import pandas as pd\n",
    "from utils.utils import read_txt, read_txt_np_int\n",
    "from functools import lru_cache\n",
    "from math import ceil, floor"
   ]
  },
  {
   "cell_type": "markdown",
   "id": "6cc20659",
   "metadata": {},
   "source": [
    "# INPUT"
   ]
  },
  {
   "cell_type": "code",
   "execution_count": 3,
   "id": "110246c7",
   "metadata": {},
   "outputs": [],
   "source": [
    "inputfilename = './inputs/day17A.txt'\n",
    "\n",
    "inputdata = read_txt(inputfilename)\n",
    "\n",
    "testdata_small = [\"Register A: 729\",\n",
    "\"Register B: 0\",\n",
    "\"Register C: 0\",\n",
    "\"\",\n",
    "\"Program: 0,1,5,4,3,0\"]"
   ]
  },
  {
   "cell_type": "code",
   "execution_count": 6,
   "id": "af6214c1",
   "metadata": {},
   "outputs": [
    {
     "name": "stdout",
     "output_type": "stream",
     "text": [
      "729 0 0\n",
      "[0, 1, 5, 4, 3, 0]\n"
     ]
    }
   ],
   "source": [
    "data_to_use = testdata_small\n",
    "\n",
    "registerA = [int(x.split(': ')[1]) for x in data_to_use if 'Register A' in x][0]\n",
    "registerB = [int(x.split(': ')[1]) for x in data_to_use if 'Register B' in x][0]\n",
    "registerC = [int(x.split(': ')[1]) for x in data_to_use if 'Register C' in x][0]\n",
    "\n",
    "program = [int(x) for line in data_to_use if 'Program' in line for x in line.split(': ')[1].split(',')]\n",
    "\n",
    "print(registerA, registerB, registerC)\n",
    "print(program)"
   ]
  },
  {
   "cell_type": "markdown",
   "id": "14b0c6a3",
   "metadata": {},
   "source": [
    "## PART 1"
   ]
  },
  {
   "cell_type": "code",
   "execution_count": null,
   "id": "757f073b",
   "metadata": {},
   "outputs": [],
   "source": [
    "combo_operand_map = {\n",
    "    0: 0,\n",
    "    1: 1,\n",
    "    2: 2,\n",
    "    3: 3,\n",
    "    4: 'registerA',\n",
    "    5: 'registerB',\n",
    "    6: 'registerC'\n",
    "}\n",
    "\n",
    "def adv():\n",
    "    return\n",
    "\n",
    "def bxl():\n",
    "    return\n",
    "\n",
    "def bst():\n",
    "    return\n",
    "\n",
    "def jnz():\n",
    "    return\n",
    "\n",
    "def bxc():\n",
    "    return\n",
    "\n",
    "def out():\n",
    "    return\n",
    "\n",
    "def bdv():\n",
    "    return\n",
    "\n",
    "def cdv():\n",
    "    return\n",
    "\n",
    "def operation(pointer, instruction, operand, registerA, registerB, registerC):\n"
   ]
  },
  {
   "cell_type": "markdown",
   "id": "b92ebbf5",
   "metadata": {},
   "source": [
    "## PART 2"
   ]
  },
  {
   "cell_type": "code",
   "execution_count": 46,
   "id": "eb6afc8d",
   "metadata": {},
   "outputs": [],
   "source": [
    "# REQUIRES THE OUTPUT OF PART 1 TO RUN\n",
    "\n",
    "reverse_direction_map = {'>': '<',\n",
    "                '<': '>',\n",
    "                'v': '^',\n",
    "                '^': 'v'}\n",
    "backtracking_cost = -1\n",
    "backtrack_rotating_cost = -1000\n",
    "\n",
    "def recover_best_path(visited_states, end_position):\n",
    "    final_direction = min(visited_states[end_position], key=visited_states[end_position].get)\n",
    "    backtrack_direction = reverse_direction_map[final_direction]\n",
    "    final_cost = visited_states[end_position][final_direction]\n",
    "    \n",
    "    final_state = (end_position, backtrack_direction, final_cost)\n",
    "\n",
    "    best_path_tiles = set([end_position])\n",
    "    states_to_backtrack = set([final_state])\n",
    "\n",
    "    while len(states_to_backtrack) > 0:\n",
    "        current_state = states_to_backtrack.pop()\n",
    "        next_states = get_next_states(reindeer_maze, current_state, backtracking_cost, backtrack_rotating_cost)\n",
    "        for next_state in next_states:\n",
    "            next_position = next_state[0]\n",
    "            next_direction = next_state[1]\n",
    "            next_cost = next_state[2]\n",
    "            backtracking_direction = reverse_direction_map[next_direction]\n",
    "            # Check if this matches the best path - if the cost matches to make it to the end with the optimal cost\n",
    "            if visited_states[next_position][backtracking_direction] == next_cost:\n",
    "                best_path_tiles.add(next_position)\n",
    "                states_to_backtrack.add(next_state)\n",
    "\n",
    "    return best_path_tiles"
   ]
  },
  {
   "cell_type": "code",
   "execution_count": 47,
   "id": "d319670d",
   "metadata": {},
   "outputs": [
    {
     "data": {
      "text/plain": [
       "529"
      ]
     },
     "execution_count": 47,
     "metadata": {},
     "output_type": "execute_result"
    }
   ],
   "source": [
    "len(recover_best_path(visited_states, end_position))"
   ]
  },
  {
   "cell_type": "code",
   "execution_count": 34,
   "id": "e954a2e2",
   "metadata": {},
   "outputs": [
    {
     "data": {
      "text/plain": [
       "{'>': 8036, '^': 7036, 'v': 9036, '<': 8036}"
      ]
     },
     "execution_count": 34,
     "metadata": {},
     "output_type": "execute_result"
    }
   ],
   "source": [
    "visited_states[end_position]"
   ]
  },
  {
   "cell_type": "code",
   "execution_count": null,
   "id": "1ca385ab",
   "metadata": {},
   "outputs": [],
   "source": []
  }
 ],
 "metadata": {
  "kernelspec": {
   "display_name": "eic_rapp",
   "language": "python",
   "name": "python3"
  },
  "language_info": {
   "codemirror_mode": {
    "name": "ipython",
    "version": 3
   },
   "file_extension": ".py",
   "mimetype": "text/x-python",
   "name": "python",
   "nbconvert_exporter": "python",
   "pygments_lexer": "ipython3",
   "version": "3.10.8"
  }
 },
 "nbformat": 4,
 "nbformat_minor": 5
}
